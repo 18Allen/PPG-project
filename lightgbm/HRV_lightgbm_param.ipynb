{
 "cells": [
  {
   "cell_type": "code",
   "execution_count": 19,
   "metadata": {},
   "outputs": [
    {
     "name": "stdout",
     "output_type": "stream",
     "text": [
      "(11639, 1) (11639, 149) (11639, 1)\n"
     ]
    }
   ],
   "source": [
    "import pandas as pd\n",
    "# Taken & PCA\n",
    "# raw_df = pd.read_csv('./features_data_resample/HRV_Takens&pca.csv')\n",
    "# raw_label = pd.read_csv('./features_data_resample/HRV_Takens&pca_label.csv')\n",
    "\n",
    "# Original featuers\n",
    "#raw_df = pd.read_csv('./features_data_resample/HRV_Original.csv')\n",
    "#raw_label = pd.read_csv('./features_data_resample/HRV_Original_label.csv')\n",
    "\n",
    "# HRV+localPHI\n",
    "raw_df = pd.read_csv('./features_data_resample/HRV_all.csv')\n",
    "raw_label = pd.read_csv('./features_data_resample/HRV_all_label.csv')\n",
    "subject_id = pd.read_csv('./features_data_resample/subjectId.csv')\n",
    "X = raw_df\n",
    "y = raw_label\n",
    "print(y.shape,X.shape, subject_id.shape)"
   ]
  },
  {
   "cell_type": "code",
   "execution_count": 20,
   "metadata": {},
   "outputs": [],
   "source": [
    "import lightgbm as lgb\n",
    "from sklearn.metrics import accuracy_score\n",
    "import seaborn as sns\n",
    "import matplotlib.pyplot as plt\n"
   ]
  },
  {
   "cell_type": "code",
   "execution_count": 21,
   "metadata": {},
   "outputs": [],
   "source": [
    "import numpy as np\n",
    "def plot_confusion_matrix(actual_val, pred_val, title=None):\n",
    "    confusion_matrix = pd.crosstab(actual_val, pred_val,\n",
    "                                   rownames=['Actual'],\n",
    "                                   colnames=['Predicted'])\n",
    "    \n",
    "    plot = sns.heatmap(confusion_matrix, annot=True, fmt=',.0f')\n",
    "    \n",
    "    if title is None:\n",
    "        pass\n",
    "    else:\n",
    "        plot.set_title(title)\n",
    "        \n",
    "    plt.show()\n",
    "    return confusion_matrix\n",
    "\n",
    "def cal_confmatrix(n_range,y_true,y_pred):\n",
    "    cm  = np.zeros([n_range,n_range])\n",
    "    for i in range(1,n_range+1):\n",
    "        for j in range(1,n_range+1):\n",
    "            cm[i-1,j-1] += sum((y_true == i) & (y_pred == j))\n",
    "    return cm\n"
   ]
  },
  {
   "cell_type": "code",
   "execution_count": 22,
   "metadata": {},
   "outputs": [
    {
     "name": "stdout",
     "output_type": "stream",
     "text": [
      "Accuracy: 0.4148936170212766\n",
      "Accuracy: 0.26096997690531176\n",
      "Accuracy: 0.43575418994413406\n",
      "Accuracy: 0.5595854922279793\n",
      "Accuracy: 0.6749311294765841\n",
      "Accuracy: 0.26006191950464397\n",
      "Accuracy: 0.5294117647058824\n",
      "Accuracy: 0.6120996441281139\n",
      "Accuracy: 0.5351239669421488\n",
      "Accuracy: 0.7\n",
      "Accuracy: 0.40939597315436244\n",
      "Accuracy: 0.47002398081534774\n",
      "Accuracy: 0.4677871148459384\n",
      "Accuracy: 0.5352697095435685\n",
      "Accuracy: 0.4970588235294118\n",
      "Accuracy: 0.5306553911205074\n",
      "Accuracy: 0.5198675496688742\n",
      "Accuracy: 0.5912408759124088\n",
      "Accuracy: 0.4708029197080292\n",
      "Accuracy: 0.4915254237288136\n",
      "Accuracy: 0.3793859649122807\n",
      "Accuracy: 0.4629156010230179\n",
      "Accuracy: 0.42036553524804177\n",
      "Accuracy: 0.4709897610921502\n",
      "Accuracy: 0.48756218905472637\n",
      "Accuracy: 0.4929078014184397\n",
      "Accuracy: 0.5756756756756757\n",
      "Accuracy: 0.5373134328358209\n",
      "Accuracy: 0.35126050420168065\n",
      "Accuracy: 0.5756172839506173\n"
     ]
    }
   ],
   "source": [
    "N = int(subject_id.max())\n",
    "CM = np.zeros([4,4])\n",
    "for i in range(1,N+1):\n",
    "    sub_id = (subject_id['1'] == i) # The ['1'] is to select first column so that the range will be a series not df\n",
    "    X_test = X[sub_id]\n",
    "    X_train = X[~sub_id]\n",
    "    y_test = y[sub_id].values.flatten() # The Model expect 1d array\n",
    "    y_train = y[~sub_id].values.flatten()\n",
    "    model = lgb.LGBMClassifier(objective = 'binary',\n",
    "                               learning_rate = 0.02,\n",
    "                               n_estimators = 3000,\n",
    "                               random_state = 0,\n",
    "#                                num_leaves = 2000,\n",
    "#                                feature_fraction = gridsearch.best_params_['feature_fraction'], \n",
    "#                                bagging_fraction = gridsearch.best_params_['bagging_fraction'],\n",
    "#                                max_depth = 12,\n",
    "#                                lambda_l1 = gridsearch.best_params_['lambda_l1'],\n",
    "#                                lambda_l2 = gridsearch.best_params_['lambda_l2'],\n",
    "#                                min_split_gain = gridsearch.best_params_['min_split_gain'],\n",
    "#                                min_child_weight = gridsearch.best_params_['min_child_weight']\n",
    "                              )\n",
    "    model.fit(X_train,y_train)\n",
    "    pred=model.predict(X_test)\n",
    "    print(\"Accuracy:\", accuracy_score(y_test, pred))\n",
    "    CM += cal_confmatrix(4 ,y_test,pred)"
   ]
  },
  {
   "cell_type": "code",
   "execution_count": 23,
   "metadata": {},
   "outputs": [
    {
     "name": "stdout",
     "output_type": "stream",
     "text": [
      "Acc =  0.48492138499871124\n",
      "macroF1 =  0.4253346354908655\n"
     ]
    }
   ],
   "source": [
    "print('Acc = ', sum(np.diag(CM))/sum(sum(CM)))\n",
    "stat = np.zeros([3,4])\n",
    "for i in range(4):\n",
    "    stat[0,i] = CM[i,i]/sum(CM[:,i])\n",
    "    stat[1,i] = CM[i,i]/sum(CM[i,:])\n",
    "    stat[2,i] = 2*stat[0,i]*stat[1,i]/(stat[0,i]+stat[1,i])\n",
    "    \n",
    "macroF1 = sum(stat[2,:])/4\n",
    "print('macroF1 = ', macroF1)"
   ]
  },
  {
   "cell_type": "code",
   "execution_count": 24,
   "metadata": {},
   "outputs": [
    {
     "data": {
      "image/png": "[encoded data removed]",
      "text/plain": [
       "<Figure size 432x288 with 2 Axes>"
      ]
     },
     "metadata": {
      "needs_background": "light"
     },
     "output_type": "display_data"
    }
   ],
   "source": [
    "plot = sns.heatmap(CM, annot=True, fmt=',.0f')\n",
    "plt.xlabel('Predict')\n",
    "plt.ylabel('True')\n",
    "plt.title('Confusion Matrix')\n",
    "plt.show()"
   ]
  },
  {
   "cell_type": "code",
   "execution_count": 25,
   "metadata": {},
   "outputs": [
    {
     "data": {
      "text/plain": [
       "array([[0.44674556, 0.29759559, 0.35722735],\n",
       "       [0.58635294, 0.45292621, 0.51107465],\n",
       "       [0.47045455, 0.71225806, 0.56663815],\n",
       "       [0.42219388, 0.19459142, 0.26639839]])"
      ]
     },
     "execution_count": 25,
     "metadata": {},
     "output_type": "execute_result"
    }
   ],
   "source": [
    "np.transpose(stat)"
   ]
  },
  {
   "cell_type": "markdown",
   "metadata": {},
   "source": [
    "# Original Code"
   ]
  },
  {
   "cell_type": "code",
   "execution_count": 26,
   "metadata": {},
   "outputs": [],
   "source": [
    "# # Leave-one-out cross validation cutting\n",
    "# from sklearn.model_selection import train_test_split\n",
    "# X_train, X_test, y_train, y_test = train_test_split(X, y, test_size=0.3, random_state=42, stratify=y)\n",
    "# print('X_train:', X_train.shape)\n",
    "# print('X_test:', X_test.shape)"
   ]
  },
  {
   "cell_type": "code",
   "execution_count": 27,
   "metadata": {},
   "outputs": [],
   "source": [
    "# import lightgbm as lgb\n",
    "# model = lgb.LGBMClassifier(is_unbalance=True)\n",
    "# model.fit(X_train,y_train)"
   ]
  },
  {
   "cell_type": "code",
   "execution_count": 28,
   "metadata": {},
   "outputs": [],
   "source": [
    "# from sklearn.metrics import accuracy_score\n",
    "# pred=model.predict(X_test)\n",
    "# print(\"Accuracy:\", accuracy_score(y_test, pred))"
   ]
  },
  {
   "cell_type": "code",
   "execution_count": 29,
   "metadata": {},
   "outputs": [],
   "source": [
    "# import seaborn as sns\n",
    "# import matplotlib.pyplot as plt\n",
    "# def plot_confusion_matrix(actual_val, pred_val, title=None):\n",
    "    # confusion_matrix = pd.crosstab(actual_val, pred_val,\n",
    "                                   # rownames=['Actual'],\n",
    "                                   # colnames=['Predicted'])\n",
    "    \n",
    "    # plot = sns.heatmap(confusion_matrix, annot=True, fmt=',.0f')\n",
    "    \n",
    "    # if title is None:\n",
    "        # pass\n",
    "    # else:\n",
    "        # plot.set_title(title)\n",
    "        \n",
    "    # plt.show()\n",
    "    # return confusion_matrix"
   ]
  },
  {
   "cell_type": "code",
   "execution_count": 30,
   "metadata": {},
   "outputs": [],
   "source": [
    "# import numpy as np\n",
    "# q = np.array(y_test)\n",
    "# q = q.reshape((-1,))\n",
    "# print(q.shape)\n",
    "# print(pred.shape)"
   ]
  },
  {
   "cell_type": "code",
   "execution_count": 31,
   "metadata": {},
   "outputs": [],
   "source": [
    "# plot_confusion_matrix(q, pred)"
   ]
  }
 ],
 "metadata": {
  "kernelspec": {
   "display_name": "Python 3",
   "language": "python",
   "name": "python3"
  },
  "language_info": {
   "codemirror_mode": {
    "name": "ipython",
    "version": 3
   },
   "file_extension": ".py",
   "mimetype": "text/x-python",
   "name": "python",
   "nbconvert_exporter": "python",
   "pygments_lexer": "ipython3",
   "version": "3.7.6"
  },
  "vscode": {
   "interpreter": {
    "hash": "af8259ad5c1c9c7a69bd6ea085234cf8fd3a6a37a71ca551828b314c4d89b0ad"
   }
  }
 },
 "nbformat": 4,
 "nbformat_minor": 2
}
