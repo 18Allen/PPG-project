{
 "cells": [
  {
   "cell_type": "code",
<<<<<<< HEAD
   "execution_count": 1,
=======
   "execution_count": 330,
>>>>>>> da98dff719a1687a9b190ba5e2c7e325a53c0ff3
   "metadata": {},
   "outputs": [
    {
     "name": "stdout",
     "output_type": "stream",
     "text": [
<<<<<<< HEAD
      "(9155, 1) (9155, 149)\n"
=======
      "(8047, 1) (8047, 369)\n"
>>>>>>> da98dff719a1687a9b190ba5e2c7e325a53c0ff3
     ]
    }
   ],
   "source": [
    "import pandas as pd\n",
<<<<<<< HEAD
    "# HRV only DWS N2\n",
    "raw_df = pd.read_csv('./features_data_resample/HRV_only_dws_N2.csv')\n",
    "raw_label = pd.read_csv('./features_data_resample/HRV_only_dws_N2_label.csv') \n",
    "# # HRV& PHI only\n",
    "# raw_df = pd.read_csv('./features_data_resample/HRV&PHI_only_dws_N2.csv')\n",
    "# raw_label = pd.read_csv('./features_data_resample/HRV&PHI_only_dws_N2_label.csv') \n",
    "# # Taken & PCA\n",
    "# raw_df = pd.read_csv('./features_data_resample/HRV_Takens&pca.csv')\n",
    "# raw_label = pd.read_csv('./features_data_resample/HRV_Takens&pca_label.csv')\n",
    "# # Original featuers\n",
=======
    "# Taken & PCA\n",
    "# raw_df = pd.read_csv('./features_data_resample/HRV_Takens&pca.csv')\n",
    "# raw_label = pd.read_csv('./features_data_resample/HRV_Takens&pca_label.csv')\n",
    "\n",
    "# Original featuers\n",
>>>>>>> da98dff719a1687a9b190ba5e2c7e325a53c0ff3
    "#raw_df = pd.read_csv('./features_data_resample/HRV_Original.csv')\n",
    "#raw_label = pd.read_csv('./features_data_resample/HRV_Original_label.csv')\n",
    "\n",
    "# HRV+localPHI\n",
    "raw_df = pd.read_csv('./features_data_resample/noBaseline/HRV&morph.csv')\n",
    "raw_label = pd.read_csv('./features_data_resample/noBaseline/HRV&morph_label.csv')\n",
    "\n",
    "X = raw_df\n",
    "y = raw_label\n",
    "print(y.shape,X.shape)"
   ]
  },
  {
   "cell_type": "code",
<<<<<<< HEAD
   "execution_count": 2,
=======
   "execution_count": 331,
>>>>>>> da98dff719a1687a9b190ba5e2c7e325a53c0ff3
   "metadata": {},
   "outputs": [
    {
     "name": "stderr",
     "output_type": "stream",
     "text": [
      "<frozen importlib._bootstrap>:228: RuntimeWarning: scipy._lib.messagestream.MessageStream size changed, may indicate binary incompatibility. Expected 56 from C header, got 64 from PyObject\n"
     ]
    },
    {
     "name": "stdout",
     "output_type": "stream",
     "text": [
<<<<<<< HEAD
      "X_train: (6408, 149)\n",
      "X_test: (2747, 149)\n"
=======
      "X_train: (5632, 369)\n",
      "X_test: (2415, 369)\n"
>>>>>>> da98dff719a1687a9b190ba5e2c7e325a53c0ff3
     ]
    }
   ],
   "source": [
    "from sklearn.model_selection import train_test_split\n",
    "X_train, X_test, y_train, y_test = train_test_split(X, y, test_size=0.3, random_state=42, stratify=y)\n",
    "print('X_train:', X_train.shape)\n",
    "print('X_test:', X_test.shape)"
   ]
  },
  {
   "cell_type": "code",
<<<<<<< HEAD
   "execution_count": null,
   "metadata": {},
   "outputs": [],
   "source": [
    "# Do leave-one-subject-out\n"
   ]
  },
  {
   "cell_type": "code",
   "execution_count": 3,
=======
   "execution_count": 332,
>>>>>>> da98dff719a1687a9b190ba5e2c7e325a53c0ff3
   "metadata": {},
   "outputs": [
    {
     "name": "stderr",
     "output_type": "stream",
     "text": [
      "C:\\Users\\scien\\anaconda3\\lib\\site-packages\\sklearn\\preprocessing\\_label.py:235: DataConversionWarning: A column-vector y was passed when a 1d array was expected. Please change the shape of y to (n_samples, ), for example using ravel().\n",
      "  y = column_or_1d(y, warn=True)\n",
      "C:\\Users\\scien\\anaconda3\\lib\\site-packages\\sklearn\\preprocessing\\_label.py:268: DataConversionWarning: A column-vector y was passed when a 1d array was expected. Please change the shape of y to (n_samples, ), for example using ravel().\n",
      "  y = column_or_1d(y, warn=True)\n"
     ]
    },
    {
     "data": {
<<<<<<< HEAD
      "text/html": [
       "<style>#sk-container-id-1 {color: black;background-color: white;}#sk-container-id-1 pre{padding: 0;}#sk-container-id-1 div.sk-toggleable {background-color: white;}#sk-container-id-1 label.sk-toggleable__label {cursor: pointer;display: block;width: 100%;margin-bottom: 0;padding: 0.3em;box-sizing: border-box;text-align: center;}#sk-container-id-1 label.sk-toggleable__label-arrow:before {content: \"▸\";float: left;margin-right: 0.25em;color: #696969;}#sk-container-id-1 label.sk-toggleable__label-arrow:hover:before {color: black;}#sk-container-id-1 div.sk-estimator:hover label.sk-toggleable__label-arrow:before {color: black;}#sk-container-id-1 div.sk-toggleable__content {max-height: 0;max-width: 0;overflow: hidden;text-align: left;background-color: #f0f8ff;}#sk-container-id-1 div.sk-toggleable__content pre {margin: 0.2em;color: black;border-radius: 0.25em;background-color: #f0f8ff;}#sk-container-id-1 input.sk-toggleable__control:checked~div.sk-toggleable__content {max-height: 200px;max-width: 100%;overflow: auto;}#sk-container-id-1 input.sk-toggleable__control:checked~label.sk-toggleable__label-arrow:before {content: \"▾\";}#sk-container-id-1 div.sk-estimator input.sk-toggleable__control:checked~label.sk-toggleable__label {background-color: #d4ebff;}#sk-container-id-1 div.sk-label input.sk-toggleable__control:checked~label.sk-toggleable__label {background-color: #d4ebff;}#sk-container-id-1 input.sk-hidden--visually {border: 0;clip: rect(1px 1px 1px 1px);clip: rect(1px, 1px, 1px, 1px);height: 1px;margin: -1px;overflow: hidden;padding: 0;position: absolute;width: 1px;}#sk-container-id-1 div.sk-estimator {font-family: monospace;background-color: #f0f8ff;border: 1px dotted black;border-radius: 0.25em;box-sizing: border-box;margin-bottom: 0.5em;}#sk-container-id-1 div.sk-estimator:hover {background-color: #d4ebff;}#sk-container-id-1 div.sk-parallel-item::after {content: \"\";width: 100%;border-bottom: 1px solid gray;flex-grow: 1;}#sk-container-id-1 div.sk-label:hover label.sk-toggleable__label {background-color: #d4ebff;}#sk-container-id-1 div.sk-serial::before {content: \"\";position: absolute;border-left: 1px solid gray;box-sizing: border-box;top: 0;bottom: 0;left: 50%;z-index: 0;}#sk-container-id-1 div.sk-serial {display: flex;flex-direction: column;align-items: center;background-color: white;padding-right: 0.2em;padding-left: 0.2em;position: relative;}#sk-container-id-1 div.sk-item {position: relative;z-index: 1;}#sk-container-id-1 div.sk-parallel {display: flex;align-items: stretch;justify-content: center;background-color: white;position: relative;}#sk-container-id-1 div.sk-item::before, #sk-container-id-1 div.sk-parallel-item::before {content: \"\";position: absolute;border-left: 1px solid gray;box-sizing: border-box;top: 0;bottom: 0;left: 50%;z-index: -1;}#sk-container-id-1 div.sk-parallel-item {display: flex;flex-direction: column;z-index: 1;position: relative;background-color: white;}#sk-container-id-1 div.sk-parallel-item:first-child::after {align-self: flex-end;width: 50%;}#sk-container-id-1 div.sk-parallel-item:last-child::after {align-self: flex-start;width: 50%;}#sk-container-id-1 div.sk-parallel-item:only-child::after {width: 0;}#sk-container-id-1 div.sk-dashed-wrapped {border: 1px dashed gray;margin: 0 0.4em 0.5em 0.4em;box-sizing: border-box;padding-bottom: 0.4em;background-color: white;}#sk-container-id-1 div.sk-label label {font-family: monospace;font-weight: bold;display: inline-block;line-height: 1.2em;}#sk-container-id-1 div.sk-label-container {text-align: center;}#sk-container-id-1 div.sk-container {/* jupyter's `normalize.less` sets `[hidden] { display: none; }` but bootstrap.min.css set `[hidden] { display: none !important; }` so we also need the `!important` here to be able to override the default hidden behavior on the sphinx rendered scikit-learn.org. See: https://github.com/scikit-learn/scikit-learn/issues/21755 */display: inline-block !important;position: relative;}#sk-container-id-1 div.sk-text-repr-fallback {display: none;}</style><div id=\"sk-container-id-1\" class=\"sk-top-container\"><div class=\"sk-text-repr-fallback\"><pre>LGBMClassifier(is_unbalance=False)</pre><b>In a Jupyter environment, please rerun this cell to show the HTML representation or trust the notebook. <br />On GitHub, the HTML representation is unable to render, please try loading this page with nbviewer.org.</b></div><div class=\"sk-container\" hidden><div class=\"sk-item\"><div class=\"sk-estimator sk-toggleable\"><input class=\"sk-toggleable__control sk-hidden--visually\" id=\"sk-estimator-id-1\" type=\"checkbox\" checked><label for=\"sk-estimator-id-1\" class=\"sk-toggleable__label sk-toggleable__label-arrow\">LGBMClassifier</label><div class=\"sk-toggleable__content\"><pre>LGBMClassifier(is_unbalance=False)</pre></div></div></div></div></div>"
      ],
=======
>>>>>>> da98dff719a1687a9b190ba5e2c7e325a53c0ff3
      "text/plain": [
       "LGBMClassifier(boosting_type='gbdt', class_weight=None, colsample_bytree=1.0,\n",
       "               importance_type='split', is_unbalance=True, learning_rate=0.1,\n",
       "               max_depth=-1, min_child_samples=20, min_child_weight=0.001,\n",
       "               min_split_gain=0.0, n_estimators=100, n_jobs=-1, num_leaves=31,\n",
       "               objective=None, random_state=None, reg_alpha=0.0, reg_lambda=0.0,\n",
       "               silent=True, subsample=1.0, subsample_for_bin=200000,\n",
       "               subsample_freq=0)"
      ]
     },
<<<<<<< HEAD
     "execution_count": 3,
=======
     "execution_count": 332,
>>>>>>> da98dff719a1687a9b190ba5e2c7e325a53c0ff3
     "metadata": {},
     "output_type": "execute_result"
    }
   ],
   "source": [
    "import lightgbm as lgb\n",
    "model = lgb.LGBMClassifier(is_unbalance=True)\n",
    "model.fit(X_train,y_train)"
   ]
  },
  {
   "cell_type": "code",
<<<<<<< HEAD
   "execution_count": 4,
=======
   "execution_count": 333,
>>>>>>> da98dff719a1687a9b190ba5e2c7e325a53c0ff3
   "metadata": {},
   "outputs": [
    {
     "name": "stdout",
     "output_type": "stream",
     "text": [
<<<<<<< HEAD
      "Accuracy: 0.8005096468875137\n"
=======
      "Accuracy: 0.8240165631469979\n"
>>>>>>> da98dff719a1687a9b190ba5e2c7e325a53c0ff3
     ]
    }
   ],
   "source": [
    "from sklearn.metrics import accuracy_score\n",
    "pred=model.predict(X_test)\n",
    "print(\"Accuracy:\", accuracy_score(y_test, pred))"
   ]
  },
  {
   "cell_type": "code",
<<<<<<< HEAD
   "execution_count": 5,
=======
   "execution_count": 334,
>>>>>>> da98dff719a1687a9b190ba5e2c7e325a53c0ff3
   "metadata": {},
   "outputs": [],
   "source": [
    "import seaborn as sns\n",
    "import matplotlib.pyplot as plt\n",
    "def plot_confusion_matrix(actual_val, pred_val, title=None):\n",
    "    confusion_matrix = pd.crosstab(actual_val, pred_val,\n",
    "                                   rownames=['Actual'],\n",
    "                                   colnames=['Predicted'])\n",
    "    \n",
    "    plot = sns.heatmap(confusion_matrix, annot=True, fmt=',.0f')\n",
    "    \n",
    "    if title is None:\n",
    "        pass\n",
    "    else:\n",
    "        plot.set_title(title)\n",
    "        \n",
    "    plt.show()\n",
    "    return confusion_matrix"
   ]
  },
  {
   "cell_type": "code",
<<<<<<< HEAD
   "execution_count": 6,
=======
   "execution_count": 335,
>>>>>>> da98dff719a1687a9b190ba5e2c7e325a53c0ff3
   "metadata": {},
   "outputs": [
    {
     "name": "stdout",
     "output_type": "stream",
     "text": [
<<<<<<< HEAD
      "(2747,)\n",
      "(2747,)\n"
=======
      "(2415,)\n",
      "(2415,)\n"
>>>>>>> da98dff719a1687a9b190ba5e2c7e325a53c0ff3
     ]
    }
   ],
   "source": [
    "import numpy as np\n",
    "q = np.array(y_test)\n",
    "q = q.reshape((-1,))\n",
    "print(q.shape)\n",
    "print(pred.shape)"
   ]
  },
  {
   "cell_type": "code",
<<<<<<< HEAD
   "execution_count": 7,
=======
   "execution_count": 336,
>>>>>>> da98dff719a1687a9b190ba5e2c7e325a53c0ff3
   "metadata": {},
   "outputs": [
    {
     "data": {
<<<<<<< HEAD
      "image/png": "iVBORw0KGgoAAAANSUhEUgAAAW4AAAEGCAYAAABFBX+4AAAAOXRFWHRTb2Z0d2FyZQBNYXRwbG90bGliIHZlcnNpb24zLjUuMSwgaHR0cHM6Ly9tYXRwbG90bGliLm9yZy/YYfK9AAAACXBIWXMAAAsTAAALEwEAmpwYAAAy40lEQVR4nO3dd3wU1drA8d+TAkhCTwiBoKBgwwKCqKgU6SKCFRQRvSgWQK5eC9h4UVG8totX8QqioiICIkV6EwHpSO9BEAIhdAlFIZvn/WOHGDHZbGA3sxuer5/57O7ZmTnPIDw5OXPmHFFVjDHGhI8ItwMwxhiTP5a4jTEmzFjiNsaYMGOJ2xhjwowlbmOMCTNRbgeQm28TOxTK4S73HZjjdggBVzQq2u0QgqJIZMj+8zhtB44ddjuEoMg4vkPO9Bwn9v7id86Jjjv/jOs7E4Xvb6YxxpyOTI/bEfjNErcxxgBoptsR+M0StzHGAGRa4jbGmLCi1uI2xpgw48lwOwK/WeI2xhiwm5PGGBN2wqirxB7AMcYY8N6c9HfzQUQuEpHl2bZDIvJPESkrItNEZJPzWibbMb1EJFlENohI87xCtcRtjDF4b076u/k+j25Q1ZqqWhOoDRwFRgM9gRmqWh2Y4XxGRC4F2gM1gBbAABGJ9FWHJW5jjIGAtbhP0RjYrKq/Am2AIU75EKCt874N8I2q/qGqW4BkoK6vk1oftzHGAHhO+L2riHQBumQrGqiqA3PYtT0wzHmfoKqpAKqaKiLlnfJKwIJsx6Q4ZbmyxG2MMZCvm5NOks4pUWcRkSLArUCvPE6X07wnPudNscRtjDEQjCcnWwI/q2qa8zlNRBKd1nYisNspTwEqZzsuCdjp68TWx22MMeBtcfu7+ece/uwmARgHdHLedwLGZitvLyJFRaQqUB1Y5OvE1uI2xhgIaItbRIoDTYFHshX3A0aISGdgG3AXgKquEZERwFogA+iqqj6fBrLEbYwxgGb6f3Myz3OpHgXKnVK2D+8ok5z27wv09ff8lriNMQbCanbAQt/HHVE0mpsmvkKT6a/TdNabXPr0HQBUuqUuTWe9yR07vqTMlVWz9i9T83yaTHvdu01/nYot67gVut8+/vgttm37maVLp2WV9e79LxYvnsLChZMYP/4rEhMTXIww/ypVSuT7iUNZtHQKCxZP4tHHHwDg8ssvYfrMb5kz73tmzR7DVbWvcDfQ0xQREcHMOaMZOvx/AJQuU4qRYz5l4c9TGDnmU0qVLulyhGemebOGrFk9m/Vr5/LsM13dDsc/ge/jDhpRDc0VwgK5dFlk8aJ4jv6BREXSaOzLLH/pS06kH0Uzldr//gcrX/maAyu2ePc9pwiZxzNQTybFypemyYzXmVCzG+oJzP+sYCxddsMNdTl8+CiDB79H7dpNAShRIpb0dO8yVY8//iCXXFKd7t2fD3jdEJylyxIS4qlQoTwrVqwhNjaGH+eM5d57HqXfmy/y4QefMX3ajzRt1pAeTz7MLS07BLx+CO7SZY92fYCatS6jRIlYOrR7lJdfeYaDBw7y/nuDeOLJhylVuhSv9n474PUWxNJlERERrFszhxY330NKSioL5k/kvo6Ps27dpqDVGYily35fPMrvnFPs6jtcXbqs0Le4ATxH/wAgIjoSiY4EVdI37eTw5tS/73vseFaSjigancdoytAwd+4iDhw4+Jeyk0kbICamOKH6Azo3aWl7WLFiDQCHDx9hw4ZkKiYmoKqULBkLQMlSJdiVutvXaUJSYsUEmjZvyFdffJtV1vLmxgz/egwAw78ew82tmrgU3Zmre3UtNm/eypYt2zhx4gQjRozl1tZ5Tr/hvjBqcZ8dfdwRQpMpfYmtmsDmz6axf9lmn7uXrXUBtd/rQkxSHIu6fxSw1nZB69PnGTp0uIPffkunefN2bodz2s49txJXXFmDJUtW0PO51/huzOe82rcXERFCs8Z3uR1evvXt9zx9Xn6L2NiYrLL4+HKkpe0BvD+04uLLuhXeGatYqQLbU/4chpyyI5W6V9dyMSI/WR937kTkQR/fdRGRJSKyZNrR5MBVmqlMb/o8E67qTplaF1DyoiSfu+9ftplpDZ9jRsuXuLj7rd6Wdxjq3fstqlW7lm++GcNjjz3gdjinJSamOF8OHUCv514lPf0wnR/qwPM9X6PGxTfwfM++fDCgn9sh5kvT5g3Zs2c/K5evcTuUoBH5ey9CWPzG58nwf3OZG10lfXL7QlUHqmodVa3TtHi1gFd84tBR9sxbR4VG/t3QSt+0k4yjf1DqYt+JPtQNHz6Gtm1buh1GvkVFRfHl0A8ZMXws34+bCsA9997OuLFTABj93cSwuzl5zbVX0aLlTSxdOYNBn77LDfWvZcDAt9izZx8JCfGAt39/7579Lkd6+nakpFI5qWLW56RKiaSmpvk4IkQEZ5KpoAhK4haRlblsq4ACHd5QpFwJoksWByCiWDQJ9WuQnvz3vu2TileORyK9fyzFk+IocUEiR7bvKZBYA+mCC6pkvW/VqikbNvjuHgpFHwzox4YNm/nwg0+zynbtSuOGG68BoEHDevyy+Ve3wjstr/V5lysvbUDtKxrz8D+eYu7sBTze5RkmT5pJu3vbAtDu3rZMmjjD3UDPwOIly6lWrSpVqlQmOjqau+9uw/fjp7odVp5UPX5vbgtWH3cC0Bw4cEq5APOCVGeOzilfmjr9H0UiI5AIIWXcQlKnL6NiyzrUfK0TRcuV4Povn+Hgml+Ze8+bxF1zERd1a42e8KCaybJen3F8f/DvxJ+JL774LzfeeB1xcWVITl7Ia6+9S/PmjbjwwgvIzMxk27YddO+e1zw3oeXa62pzz723sXr1eubM+x6AV/7vHZ7o9jxv/vtlIqMi+eP3P+jR/QWXIw2M998dyCdD/kOHjneSkpJK50493A7ptHk8Hnr880UmTviayIgIPh8ynLVrN7odVt5CoCXtr6AMBxSRwcBnqjo3h+++VtV78zpHIIcDhpJgDAd0WzCGA4aCYA4HdEtBDAd0QyCGAx774RO/c845jR5ydThgUP5mqmpnH9/lmbSNMabAhVGLu/A1KYwx5nSEwGgRf1niNsYYCIkHa/xlidsYY8C6SowxJuxY4jbGmDBjXSXGGBNm7OakMcaEGesqMcaYMGNdJcYYE2bCqMV9ViykYIwxeQrg7IAiUlpEvhWR9SKyTkSuE5GyIjJNRDY5r2Wy7d9LRJJFZIOI5LnqhCVuY4wBUPV/y1t/YLKqXgxcCawDegIzVLU6MMP5jIhcCrQHagAtgAEiEunr5Ja4jTEGICPD/80HESkJ1AcGA6jqcVU9CLQBhji7DQHaOu/bAN+o6h+qugVIBur6qsMStzHGQCDXnDwf2AN8JiLLROQTEYkBElQ1FcB5Le/sXwnYnu34FKcsV5a4jTEG8tXHnX2ZRWfrku1MUcBVwEeqWgs4gtMtkoucpoj12R9jo0qMMQb87bt2dtWBwMBcvk4BUlR1ofP5W7yJO01EElU1VUQSgd3Z9q+c7fgkYCc+WIvbGGMgYKNKVHUXsF1ELnKKGgNrgXFAJ6esEzDWeT8OaC8iRUWkKlAdWOSrjpBtcbffN8vtEIIi/atH3A4h4ErfP8jtEIIiIsffYE2hFdhx3N2BoSJSBPgFeBBvQ3mEiHQGtgF3AajqGhEZgTe5ZwBdNY+FLUM2cRtjTEFST+AWAVbV5UCdHL5qnMv+fYG+/p7fErcxxkBYPTlpidsYY8DmKjHGmLCT6f+oErdZ4jbGGLCuEmOMCTsBvDkZbJa4jTEGrMVtjDFhx/q4jTEmzNioEmOMCTPW4jbGmPCi1sdtjDFhxkaVGGNMmLGuEmOMCTPWVWKMMWHGWtzGGBNmwmg44Fm9Ak5SUkWmTx3JqpWzWLF8Jt27dXY7pHw5dOw4Tw+bTdv+33Nb/+9ZsW0PU1f/yu3vj6fWy0NZs2PfX/Yf/ONqWr83ljb/Gce8TT5XRgoJH3/8Ntu3LePnpdOzym6/vRXLfp7OsaO/ctVVV7gY3ekpWrQI02eNYs7875m3eBI9X+gBQJvbWjJv8ST2HdpIzVqXuRzlmWverCFrVs9m/dq5PPtMV7fD8U+m+r+57KxO3BkZGTzzbB8uv6Ih19/Qmscee4BLLqnudlh++/fEJdSrXpExPVozouvNVI0vRbXypXn3nvpcdV75v+y7efdvTFn1K6O638KATjfx+veL8YR4n96XX46k9a0d/1K2ds0G2rXrwpy5C3M5KrT98cdx2rTqyI3Xtab+da1p3ORG6lxdk3VrN3L/vY8z76fFbod4xiIiIni/f19uaX0fl1/ZiHbt2obFvyvN8Pi9ue2sTty7du1m2fLVABw+fIT16zdRqWIFl6Pyz+HfT/Dz1t3cVvsCAKKjIil5ThHOL1+KKvEl/7b/rHXbaX75eRSJiqRSmVgqlyvB6pR9f9svlMydu5ADBw7+pWz9hmQ2bvrFnYAC5MiRowBER0cRHR2NqrJxw2aSN21xObLAqHt1LTZv3sqWLds4ceIEI0aM5dbWzd0OK2/W4g4/552XRM0rL2PhomVuh+KXlAPplIkpxsujF9Duw4n0GbOAY8czct1/d/oxKpSKyfqcULI4uw8dK4hQzSkiIiKYPW8cG7csZNbMuSxdssLtkAKqYqUKbE/5sysuZUcqFcOhQaSZ/m8uC1riFpGLRaSxiMSeUt4iWHWerpiY4owYPoinnu5Nevpht8PxiydTWZ+6n7uvrs7wrjdTLDqKT2evyXV/1b+3EsTWwnVFZmYm9evdSo2LbuCqOldyyaWh342QH5LDX6yc/v6FnLO9xS0iT+Bder47sFpE2mT7+nUfx3URkSUisiQz80gwQvubqKgoRg4fxLBhoxkzZlKB1BkICSWLU75kcS6vHAdA0xrnsi51v8/9d/32559p2qGjxJc4J+hxmtwd+i2duXMW0rhJfbdDCagdKalUTqqY9TmpUiKpqWkuRuQfzVS/N7cFq8X9MFBbVdsCDYGXRKSH812u7TxVHaiqdVS1TkRETG67BdSgge+wbn0y/+k/sEDqC5S4EudQoVRxtu45BMDCX3ZxfnypXPdvcHESU1b9yvEMDzsOHGbbvnQuSypXUOEaR7m4spQsVQKAYsWK0rBRPTZtDO8++1MtXrKcatWqUqVKZaKjo7n77jZ8P36q22HlLcPj/5YHEdkqIqtEZLmILHHKyorINBHZ5LyWybZ/LxFJFpENIpLnDYFgjeOOVNXDAKq6VUQaAt+KyHn4SNwF7fp6V9PxvjtZuWotSxZ7/2K99FI/Jk2e6XJk/nmuVR2e//YnTngyqVQmllduv5aZa7fTb8JiDhz5g+5fzuKixDJ81OkmqiWUpull53H7++OJjBB63VKHyIjQvsXxxRcfUP/Ga4mLK8vm5EW8+to77N//G++9+wrx8WUZM/pzVq5cyy2t73M7VL9VSIhnwMC3iIyMICIigtHfTWTK5B9o1bopb77dm7i4sgwf9QmrVq7jzrYPuh3uafF4PPT454tMnPA1kRERfD5kOGvXbnQ7rLwFviXdSFX3ZvvcE5ihqv1EpKfz+TkRuRRoD9QAKgLTReRCVc31J4QEo+9JRGYCT6nq8mxlUcCnQAdVjczrHFFFKrn/+0gQpH/1iNshBFzp+we5HUJQFI8q6nYIAZd+vHDekM44vuOMG4Tpj7bwO+eU+N9kn/WJyFagTvbELSIbgIaqmioiicAsVb1IRHoBqOobzn5TgP9T1fm5nT9YTa77gV3ZC1Q1Q1XvBwpXh54xplBQVb+37PfjnK3LqacDporI0mzfJahqqlNXKnDyYYtKwPZsx6Y4ZbkKSleJqqb4+O6nYNRpjDFnJB9dJao6EPB1Y+x6Vd0pIuWBaSKy3se+ObXefQYT2p2cxhhTUAI4HFBVdzqvu4HRQF0gzekiwXnd7eyeAlTOdngS4HNOCkvcxhgDaEam35svIhIjIiVOvgeaAauBcUAnZ7dOeIdM45S3F5GiIlIVqA4s8lWHzQ5ojDEAgXsgMgEY7TyIFAV8raqTRWQxMEJEOgPbgLsAVHWNiIwA1gIZQFdfI0pOntQYY856gXqwRlV/Aa7MoXwf0DiXY/oCff2twxK3McZASDzK7i9L3MYYA4HsKgk6S9zGGEPgukoKgiVuY4wBNMMStzHGhBfrKjHGmPASAusj+M0StzHGgLW4jTEm3FiL2xhjwozmvmRryLHEbYwxWIvbGGPCjiXuAKgQWybvncJQtUeGux1CwN0Uf5nbIQTFnozDbocQcMv3Fa71LQNKQ2ZVxTyFbOI2xpiCZC1uY4wJM5ppLW5jjAkrmR5L3MYYE1asq8QYY8KMdZUYY0yY0fCZHNAStzHGgLW4jTEm7ITTzckItwMwxphQoJni9+YPEYkUkWUiMt75XFZEponIJue1TLZ9e4lIsohsEJHmeZ071xa3iPwXyLXXR1Wf8Ct6Y4wJAxr4Jyd7AOuAks7nnsAMVe0nIj2dz8+JyKVAe6AGUBGYLiIXqqontxP76ipZEpDQjTEmDARyOKCIJAGtgL7AU05xG6Ch834IMAt4zin/RlX/ALaISDJQF5if2/lzTdyqOuQMYzfGmLCRGdgW93+AZ4ES2coSVDUVQFVTRaS8U14JWJBtvxSnLFd53pwUkXi8PxUuBYqdLFfVm/wI3hhjwkJ+ukpEpAvQJVvRQFUd6Hx3C7BbVZeKSEN/TpdTOL4O8GdUyVBgON5m/6NAJ2CPH8cZY0zYyM+oEidJD8zl6+uBW0XkZryN3ZIi8hWQJiKJTms7Edjt7J8CVM52fBKw01f9/owqKaeqg4ETqvqjqv4DuNaP44wxJmwEalSJqvZS1SRVrYL3puNMVb0PGIe34YvzOtZ5Pw5oLyJFRaQqUB1Y5KsOf1rcJ5zXVBFphfcnQZIfxxljTNgIcB93TvoBI0SkM7ANuAtAVdeIyAhgLZABdPU1ogT8S9yviUgp4F/Af/EObXnyDII3xpiQE4ThgKjqLLyjR1DVfUDjXPbri3cEil/y7CpR1fGq+puqrlbVRqpaW1XH+VtBqJm/fArT537HlB+/ZcIM72o0L/b5F7MWjGPanO/45Iv+lCxZIo+zhJ4FK6Yy/afRTJ09iokzvdd1S5tmzJw3lu37VnFFzRouR+ifJ99+kmHLhvHR9I/+9t0dj9zBpO2TKFmmZFbZ3V3vZvCcwQyaNYirGlxVkKH67eV3ezJ11TiG//DnQK2SpUvw4Tfv8t1PX/PhN+9SolRs1ncPdL+P0fOGMWrOUK5tWNeNkM/IoIHvsDNlBcuXzXA7lHxR9X9zW56JW0Q+E5FPT90KIrhguevWf9C8wZ20atwOgNmz5tP4+ttoeuPt/LJ5K92efMjlCE/PXa0fpFn9O7j5Ju91rV+XzMP392DBvPAZkj9t5DRe7Pji38rjEuOodWMt0lLSssrOrX4uDW5twKONH+XFji/SrW83IiJC72Hg70dMovu9T/+l7IFu97Fo7lJuv/5eFs1dygPd7gOg6oVVaNamMXc3vJ/u9z5NzzeeCslr8uWLL0bQ6pYOboeRb5kqfm9u8+dvxHhggrPNwNtVUqgW45v9wzw8Hm+X0s9LVpJYMcHliAIjeeMvbE7e6nYY+bJ64WrSD6b/rfyR3o8wuO/gvwySurbZtfw47kdOHD9B2vY0dm7dyYU1LyzAaP2zbMEKDh049JeyBs1vYPyIyQCMHzGZhi1uzCqfOnYGJ46fYOf2VLZv3UGNWpcUeMxnYs7chew/cNDtMPItM1P83tyWZx+3qo7K/llEhgHT8zpOROp6D9fFziOdLYD1qjrxdIMNBFXl61EDUVWGDhnJ0CHf/uX7dh1u4/vRk12K7vSpKsO+G4Sq8tXnIxk6ZKTbIQXMNU2vYe+uvWxZt+Uv5eUqlGP9z+uzPu9N3UtchbiCDu+0lI0vw77d+wDYt3sfZeK801aUrxDHqp/XZu23e+duyleIdyXGs00otKT9dTqzA1YHzvW1g4j0BloCUSIyDbgGbwd9TxGp5XTE53Rc1qD20sUTiSla9jTC8+22lh1J27WHcnFlGfbdIJI3bmHh/KUAdH+qC54MD9+NHB/weoOtbYv7sq7rm9GfkLzpFxbOW+p2WGesaLGitO/enhc6vPC370T+/g9NQ6ED8kzkdE2+n8UwARKMm5PB4k8fd7qIHDq5Ad/jfZLSlzvxDkKvD3QF2qrqK0BzoF1uB6nqQFWto6p1gpG0AdJ2eZ8d2rd3P5MnzKBm7cu9Abe/lSbN69PtkbwuLTRlv65J46dT86rLXY4oMBKrJFKhcgUGTBnA5/M+Jy4xjv9O+i9l4suwN3Uv8RX/bI3GJcaxL22fi9H6b/+eA5QrXw6AcuXLcWDvAQB2p+4hoWL5rP3KVyzPnl17XYnxbFOo+rhVtYSqlsy2XXhq90kOMlTVo6pHgc2qesg51zHAtZXdzil+DjGxxbPe129Ujw3rNtGw8fU83qMzD97bnd+P/e5WeKft1OtqcFM9NqxLdjmqwNi6fiv31LqHB+o9wAP1HmBv6l66t+zOgT0HWDBtAQ1ubUB0kWgSKidQsUpFNi7f6HbIfvlx6k/ccncLAG65uwU/TpkLwOwpc2nWpjHRRaKpWDmRylWTWLNsnZuhnjU0H5vb/JmrZIaqNs6r7BTHRaS4k7hrZzuuFC4m7vj4cnzyZX8AIqMiGfPtRGbN+Im5SyZSpGgRhn03CPDeoOz1r1fcCjPf4uPLMfir9wGIjIxkzKgJzJoxlxatGvPam89TNq4sXwwfwJpVG+hwZ5c8zuau5z54jiuuvYKSZUvy5aIv+fKdL5k6fGqO+27buI054+fw8cyP8WR4GPDiADIzQ2/F174DelO7Xi1Kly3FhKWjGPj2pwz54Cve+PgV2tzTil07dtOzy0sA/LJxK9O/n8nIH7/Ek+Hh38+/G5LX5MtXX35Ig/rXERdXlq2/LKHPK2/z2effuB1WnjyZ4TN6R3LrExSRYkBx4Ae8UxGe/P2gJDBJVXO91S0iRZ0pCk8tjwMSVXVVXoEllb0sFH6wBVzY98Hm4IpYn7c8wtaejEI1eAqA5ft+cTuEoMg4vuOM+y/mVLjT73+cN+761tX+El8t7keAf+Kd2HspfybuQ8CHvk6aU9J2yvcC1mFnjAk5muMkfaHJ13zc/YH+ItJdVf9bgDEZY0yBywyjX4b96dTJFJHSJz+ISBkReTx4IRljTMHLRPze3OZP4n5YVQ+e/KCqB4CHgxaRMca4QBG/N7f58wBOhIiIOnfVRCQSKBLcsIwxpmB5QiAh+8ufxD0F7xyy/8M7hPFRYFJQozLGmAIWToMu/Uncz+F9DP0xvCNLlgGJwQzKGGMKWjglbn+enMzEuwLxL0AdvBOB26NcxphCpVD0cYvIhXjXS7sH2Id3wWBUtVHBhGaMMQUnBGZr9ZuvrpL1wBygtaomA4iILVlmjCmUQmGYn798dZXcAewCfhCRQSLSGMLoyowxJh88+djclmviVtXRqtoOuBjvXNpPAgki8pGINCug+IwxpkBkivi9uc2fm5NHVHWoqt4CJAHLgZ7BDswYYwpSoKZ1FZFiIrJIRFaIyBoR6eOUlxWRaSKyyXktk+2YXiKSLCIbRKR5XrHmax5DVd2vqh+r6k35Oc4YY0JdZj62PPwB3KSqVwI1gRYici3eBu8MVa2Od/3engDO0o7tgRp4l3gc4DzomKvwmYDWGGOCKFP833xRr5NzAkc7mwJtgCFO+RCgrfO+DfCNqv6hqluAZKCurzoscRtjDN5H3v3dRKSLiCzJtv1lhRIRiRSR5cBuYJqqLgQSVDUVwHk9uUZdJWB7tsNTnLJcnc5iwcYYU+jkZxy3qg4EBvr43gPUdGZWHS0il/k4XU41++xKD9nEfeR4+K39eLZacqhwrqqyc3Phm5Kn6oW3uh1CyArGI++qelBEZuHtu04TkURVTRWRRLytcfC2sCtnOywJ2OnrvNZVYowxBHRUSfzJNQxE5BygCd4HGscBnZzdOgFjnffjgPYiUlREqgLVgUW+6gjZFrcxxhSkAD7ynggMcUaGRAAjVHW8iMzHO9NqZ2AbcBeAqq4RkRHAWiAD6Op0teTKErcxxhC4rhJVXQnUyqF8H95J+nI6pi/Q1986LHEbYwzgcf+BSL9Z4jbGGMJrPm5L3MYYgyVuY4wJO3mNFgkllriNMYbCs5CCMcacNayrxBhjwkwoLJDgL0vcxhiDdZUYY0zYsa4SY4wJMzaqxBhjwkxmGKVuS9zGGIPdnDTGmLBjfdwhqmjRIkyYMoyiRYsQGRXFuDGT6de3P21ua8lzzz/BRRddQOMGt7N82Wq3Q82XSpUS+WjQW5RPiCMzUxny2Td8PGAIl112Me/0f5XY2OJs+3UHXTo/RXr64bxPGEIiIiKY/uMoUnem0aHdo5QuU4pBn73HuedWYtu2HTz0wD/57eAht8P0acuvKTz98htZn1N2ptLtoY4c/C2dmXPnEyERlC1Tir4v/Ivy8eUA2JC8hVf+/T6HjxwlIiKCbz7pT9GiRdy6BL/MXz6FI4eP4PFkkpHhoVXjdrzY5180ad6AEycy+HXLdp7q9iKHDqW7HWqOwmlUiaiGZr9OmdhqQQksJqY4R44cJSoqiknTvqHXs69x6FA6mZmZvPf+a7z0/Bthl7gTEuJJqFCelSvWEBsbww9zxnDfPY8x4ON/89IL/Zg3dxEdOt7JeVWSeP3V/wS8/qhInwtSn5FHuz5AzVqXUaJELB3aPcrLrzzDwQMHef+9QTzx5MOUKl2KV3u/HZS6g7ECjsfj4aa2HRk26D1KloglNiYGgK9GjmXzlm30frY7GRke7vpHN9546Rkurn4+B387RInYGCID8OcczBVw5i+fws03tePA/oNZZfUb1eOn2QvxeDw83/tJAF7v817A607Zv/qM0+6LVe71O+e8tvVrV9P8WbcCzpEjRwGIjo4iOjoaVWXjhs0kb9ricmSnLy1tDytXrAHg8OEjbNywmcTEBKpVP595c70Lacya+ROt27RwM8x8S6yYQNPmDfnqi2+zylre3JjhX48BYPjXY7i5VROXojs9C5Ysp3KlRCpWSMhK2gDHjv2OOKlg3qKlXHhBVS6ufj4ApUuVDEjSdsPsH+bh8Xh7j39espLEigkuR5S7QK2AUxDOusQdERHB7Hnj2LhlIbNmzmXpkhVuhxRQlc+txBVXXsrSJStYv3YjLZ3E1ua2llSqVMHl6PKnb7/n6fPyW2Rm/tn7GB9fjrS0PYD3B1ZcfFm3wjstk2b8yM1NGmR97v/x5zS+rSMTpv5At4c6AvDr9h2ICF2efIG7HuzGp0NHuhVuvqgqX48ayMSZw+nQ6c6/fd+uw238MH2uC5H5JzMfm9sKLHGLyBcFVZcvmZmZ1K93KzUuuoGr6lzJJZdWdzukgImJKc4XQz+k13OvkZ5+mG6P9+ShLvfxw5wxxJaI4cTxE26H6LemzRuyZ89+Vi5f43YoAXPixAlmzV1Is5tuzCrr8cgDzBj9Ja2aNeLrUd8DkOHxsGzlGt7s/SxffPQ2M36cx4Ily9wK22+3texIy0Z30/Hux+jU+R6uua521nfdn+qCJ8PDdyPHuxihbx7U781tQbk5KSLjTi0CGp1cQFNVc+xoE5EuQBeAc4rEUzS6ZDDCA+DQb+nMnbOQxk3qs27tpqDVU1CioqIYMvRDRg4fx/hxUwHYtPEX7mjzAAAXVKtCs+YN3Qswn6659ipatLyJJk3rU6xYUWJLxDJg4Fvs2bOPhIR40tL2kJAQz949+90O1W9zFizhkgsvIK5smb9916pZQx5/ujfdHupIQvk46tS8nDKlSwFw43VXs3bDZq6t87fVsEJK2i7vb0L79u5n8oQZ1Kx9OQvnL+XO9rfSpHl92rV9yOUIfQuFlrS/gtXiTgIOAe8C7zhberb3OVLVgapaR1XrBCNpl4srS8lSJQAoVqwoDRvVY9PGXwJejxv+O+ANNm5IZsAHn2aVnexGEBGefrYrnw0e5lZ4+fZan3e58tIG1L6iMQ//4ynmzl7A412eYfKkmbS7ty0A7e5ty6SJM9wNNB8mTpvFzU0bZn3+dfuOrPc/zFlA1fOSALi+bm02bt7Csd9/JyPDw5Llq7ig6rkFHW6+nFP8HGJii2e9r9+oHhvWbaJh4+t5vEdnHry3O78f+93lKH3LRP3e3Bas4YB1gB7AC8AzqrpcRI6p6o9Bqs8vFRLiGTDwLSIjI4iIiGD0dxOZMvkHWrVuyptv9yYurizDR33CqpXruLPtg26Gmi/XXleb9vfexprV65k9z/vLzqv/9w7nV6vCQw/fB8D4cVMZ+uW3vk4TFt5/dyCfDPkPHTreSUpKKp079XA7JL8c+/135i9eRu9nn8gqe++jz9i6LQWJECpWKM/Lz3QHoFTJEtzf/nbad+6BiHDjdVfToF5dt0L3S3x8OT75sj8AkVGRjPl2IrNm/MTcJRMpUrQIw74bBHhvUPb61ytuhpor99Ox/4I6HFBEkoD3gDTgVlX1u9kQrOGAJvCCORzQTcEYDui2YA4HdFMghgP2qNLe75zTf+s3udYnIpWBL4AKeHtgBqpqfxEpCwwHqgBbgbtV9YBzTC+gM94HOJ9Q1Sm+6g/qzUlVTVHVu4BJwFfBrMsYY85EAG9OZgD/UtVLgGuBriJyKdATmKGq1YEZzmec79oDNYAWwAAR8dkaKpBRJao6QVWfL4i6jDHmdASqj1tVU1X1Z+d9OrAOqAS0AYY4uw0B2jrv2wDfqOofqroFSAZ89o2ddeO4jTEmJ/l5AEdEuojIkmxbl5zOKSJVgFrAQiBBVVPBm9yB8s5ulYDt2Q5LccpydVbNVWKMMbnJz2gRVR0IDPS1j4jEAqOAf6rqIZHcu8VzqsLXua3FbYwxBPbJSRGJxpu0h6rqd05xmogkOt8nArud8hSgcrbDk4Cdvs5vidsYYwDNx3++iLdpPRhYp6rvZvtqHNDJed8JGJutvL2IFBWRqkB1YJGvOqyrxBhjIJCPsl8PdARWichyp+x5oB8wQkQ6A9uAuwBUdY2IjADW4h2R0lVVfa7rYInbGGMI3CPvqjqXnPutARrnckxfoK+/dVjiNsYYIDNE1ybIiSVuY4whvB55t8RtjDHYKu/GGBN28hotEkoscRtjDJBhidsYY8KLtbiNMSbMhNMKOJa4jTEG72LH4cIStzHGYKNKAiL9+DG3QzBnuQsvus3tEAJuZkKS2yGErFBYvd1fIZu4jTGmIFmL2xhjwoz1cRtjTJixUSXGGBNmbBy3McaEGevjNsaYMOPR8OksscRtjDFYV4kxxoQdW0jBGGPCTPikbUvcxhgDhNfNyQi3AzDGmFCQifq95UVEPhWR3SKyOltZWRGZJiKbnNcy2b7rJSLJIrJBRJrndX5L3MYYg3dUib+bHz4HWpxS1hOYoarVgRnOZ0TkUqA9UMM5ZoCIRPo6uSVuY4zBO6rE3//yPJfqbGD/KcVtgCHO+yFA22zl36jqH6q6BUgG6vo6vyVuY4zBO1eJv5uIdBGRJdm2Ln5UkaCqqU5dqUB5p7wSsD3bfilOWa7s5qQxxpC/m5OqOhAYGKCqJacqfB1gidsYYyiQ2QHTRCRRVVNFJBHY7ZSnAJWz7ZcE7PR1IusqMcYYwEOm39tpGgd0ct53AsZmK28vIkVFpCpQHVjk60RndeJu3qwha1bPZv3auTz7TFe3wwmIpKSKTJ86klUrZ7Fi+Uy6d+vsdkgBUZiuq0TJEgz47G2mLxjDtPmjqVXnCp7q1ZVJs0cyYdZwvvj2f5SvEO92mP6JiODcUR9Q8aM+3o+lYqk0+HWqTB5MpcGvE1EyNmvXMg+3o8rkT6ky8ROKX1/brYhzlanq95YXERkGzAcuEpEUEekM9AOaisgmoKnzGVVdA4wA1gKTga6q6vF5/lCdPDyqSKWgBhYREcG6NXNocfM9pKSksmD+RO7r+Djr1m0KZrVBV6FCeRIrlGfZ8tXExsawaOFk7rjzH3Zdp6FyibignPftD19l8fyfGf7VaKKjoyh2zjmoZnI4/QgAD3S5l2oXns+LT78W8LqnlE8M6PlKd7qdYpdVJyK2ODsf603c053xHEznwCcjKPPQ3USWimXvO59S5IJzSXy7J9vu7kFk+bIkffoGW1s+BJmBmdjpwnWTc+onzpcaCdf4nXPWpC084/rOxFnb4q57dS02b97Kli3bOHHiBCNGjOXW1nmOew95u3btZtly75j/w4ePsH79JipVrOByVGeusFxXbIkY6l5Xm+FfjQbgxIkM0g+lZyVtgHOKFwuLCY+iEuKIbXA1v307Oass9qbrODR2OgCHxk4ntnE9AGJuuo5DE39ET5wgY0caJ7alUuyKi1yJOzeBbHEHW4HcnBSRG/COS1ytqlMLos68VKxUge0pf/b/p+xIpe7VtVyMKPDOOy+JmldexsJFy9wOJaDC+boqn5fE/n0HeOuDV7ikxkWsXrGWPs//m2NHj/H0C924rV1r0g8d5t42D7kdap7iez3CnrcHExFTPKssslxpPHu8w5c9e/YTWbYUANEJ5Ti2Yn3Wfhlpe4kqX65gA85DOPywPCkoLW4RWZTt/cPAB0AJoLeI9PRxXNbYyMzMI7ntFqgY/1YWqt1GpyMmpjgjhg/iqad7k55+2O1wAibcrysqKpIaV1zM0M9Gckujdhw9eozHevwDgLf7fsD1VzRn7LcTuP+h9i5H6ltMw7p49h/kj7XJ/h2Qw783QuzfWzi1uIPVVRKd7X0XoKmq9gGaAR1yO0hVB6pqHVWtExERE6TQvHakpFI5qWLW56RKiaSmpgW1zoISFRXFyOGDGDZsNGPGTHI7nIApDNeVujONXTvTWL50FQCTxk2jxhUX/2Wfcd9OokXrJm6E57dzatUgptG1VJ0+hMR3elL8miup8OazePYdJDK+LACR8WXx7P8NgBO79hKV7YZrVEIcGXtOfbDQXQF+5D2ogpW4I0SkjIiUw3sDdA+Aqh4BMoJUZ74sXrKcatWqUqVKZaKjo7n77jZ8Pz4kenHO2KCB77BufTL/6R+o5wNCQ2G4rr2795G6I43zq50HQL3615C84ReqnH9u1j5NWjbkl01b3ArRL3vf+4wtjTqypUknUv/Vj6MLV7DruX9zeOYCSrbx/tAp2aYJh2fOB+DIDwsoeXMDJDqaqEoJRJ9Xkd9XbnDzEv4mkI+8B1uw+rhLAUvxPhGkIlJBVXeJSCw5PyVU4DweDz3++SITJ3xNZEQEnw8Zztq1G90O64xdX+9qOt53JytXrWXJYu8Popde6sekyTNdjuzMFKbr6t2zH+99/AZFoqPZ9msKz3R7mX79/4/zq1VBMzPZsT2VF4IwoqQg7P9kOBXffZ5SdzYnY+dudj7ZF4Djyb+SPnk2543/GDyZ7H71w4CNKAkUDYGWtL8KdDigiBTH+7x+ns2JYA8HNCYvwRoO6KZADwcMFYEYDnheuSv8zjm/7lvpagO0QB95V9WjQGj/DmiMOSuF0+AEm6vEGGMIrxVwLHEbYwzgCbE+d18scRtjDOH1AI4lbmOMwfq4jTEm7FgftzHGhBlrcRtjTJixm5PGGBNmrKvEGGPCjHWVGGNMmAmF6Vr9ZYnbGGOwcdzGGBN2rMVtjDFhJjOMpnU9axcLNsaY7FTV7y0vItJCRDaISLKv5RpPl7W4jTGGwI0qEZFI4EOgKZACLBaRcaq6NiAVYC1uY4wBQPOx5aEukKyqv6jqceAboE0gYw3ZFnfG8R0FtsKEiHRR1fBdyDAXhfG6CuM1QeG8rnC7pvzkHBHpgnch9JMGZrvWSsD2bN+lANeceYR/sha3V5e8dwlLhfG6CuM1QeG8rsJ4TQCo6kBVrZNty/4DKqcfAAEdsmKJ2xhjAisFqJztcxKwM5AVWOI2xpjAWgxUF5GqIlIEaA+MC2QFIdvHXcDCph8unwrjdRXGa4LCeV2F8ZrypKoZItINmAJEAp+q6ppA1iHhNLGKMcYY6yoxxpiwY4nbGGPCzFmduEXkUxHZLSKr3Y4lUESksoj8ICLrRGSNiPRwO6ZAEJFiIrJIRFY419XH7ZgCRUQiRWSZiIx3O5ZAEZGtIrJKRJaLyBK34ylszuo+bhGpDxwGvlDVy9yOJxBEJBFIVNWfRaQEsBRoG8jHbd0gIgLEqOphEYkG5gI9VHWBy6GdMRF5CqgDlFTVW9yOJxBEZCtQR1X3uh1LYXRWt7hVdTaw3+04AklVU1X1Z+d9OrAO75NcYU29Djsfo50t7FsdIpIEtAI+cTsWEz7O6sRd2IlIFaAWsNDlUALC6VJYDuwGpqlqYbiu/wDPAuEzp6h/FJgqIkudx8NNAFniLqREJBYYBfxTVQ+5HU8gqKpHVWvifRKtroiEdfeWiNwC7FbVpW7HEgTXq+pVQEugq9MtaQLEEnch5PQBjwKGqup3bscTaKp6EJgFtHA3kjN2PXCr0x/8DXCTiHzlbkiBoao7ndfdwGi8M+aZALHEXcg4N/EGA+tU9V234wkUEYkXkdLO+3OAJsB6V4M6Q6raS1WTVLUK3seiZ6rqfS6HdcZEJMa5MY6IxADNgEIzcisUnNWJW0SGAfOBi0QkRUQ6ux1TAFwPdMTbelvubDe7HVQAJAI/iMhKvHNBTFPVQjN8rpBJAOaKyApgETBBVSe7HFOhclYPBzTGmHB0Vre4jTEmHFniNsaYMGOJ2xhjwowlbmOMCTOWuI0xJsxY4jZBISIeZyjiahEZKSLFz+Bcn4vInc77T0TkUh/7NhSReqdRx1YRiTvdGI0pSJa4TbAcU9WazqyLx4FHs38pIpGnc1JVfSiPmQ4bAvlO3MaEE0vcpiDMAao5reEfRORrYJUzadRbIrJYRFaKyCPgffpTRD4QkbUiMgEof/JEIjJLROo471uIyM/OHN0znEm1HgWedFr7NzpPXI5y6lgsItc7x5YTkanOPNgfA1LAfybGnDZbLNgElYhE4Z1o6OSTc3WBy1R1izNr3G+qerWIFAV+EpGpeGc0vAi4HO9TeGuBT085bzwwCKjvnKusqu4Xkf8Bh1X1bWe/r4H3VHWuiJyLdwHXS4DewFxVfUVEWgE2g50JG5a4TbCc40zBCt4W92C8XRiLVHWLU94MuOJk/zVQCqgO1AeGqaoH2CkiM3M4/7XA7JPnUtXc5lVvAlzqncIFgJLOPBr1gdudYyeIyIHTu0xjCp4lbhMsx5wpWLM4yfNI9iKgu6pOOWW/m8l7kQTxYx/wdgdep6rHcojF5nswYcn6uI2bpgCPOdPQIiIXOrPJzQbaO33giUCjHI6dDzQQkarOsWWd8nSgRLb9pgLdTn4QkZrO29lAB6esJVAmUBdlTLBZ4jZu+gRv//XP4l2w+WO8vwWOBjYBq4CPgB9PPVBV9+Dtl/7OmYVuuPPV98BtJ29OAk8AdZybn2v5c3RLH6C+iPyMt8tmW5Cu0ZiAs9kBjTEmzFiL2xhjwowlbmOMCTOWuI0xJsxY4jbGmDBjidsYY8KMJW5jjAkzlriNMSbM/D/liVofJEP+bwAAAABJRU5ErkJggg==",
=======
      "image/png": "iVBORw0KGgoAAAANSUhEUgAAAW4AAAEGCAYAAABFBX+4AAAABHNCSVQICAgIfAhkiAAAAAlwSFlzAAALEgAACxIB0t1+/AAAADh0RVh0U29mdHdhcmUAbWF0cGxvdGxpYiB2ZXJzaW9uMy4xLjMsIGh0dHA6Ly9tYXRwbG90bGliLm9yZy+AADFEAAAgAElEQVR4nO3dd3wUVdfA8d9JAkiVpoABRQTB8iogUkSk9y6PBUFR0djF8giiPhYQQbE8oIKioBSl+lAFFREQEJDeiQmIGAhdhFCTzXn/2CFGTNmQ3UwmnK+f+ezOnbtzzxo9ublz546oKsYYY7wjzO0AjDHGZI0lbmOM8RhL3MYY4zGWuI0xxmMscRtjjMdEuB1AenpVvDPPTXcZtnuR2yGERKH8F7gdQtCd9iW5HUJIJObR75V0epdk9xyJB7YHnHPyla6U7fayw3rcxhjjMbm2x22MMTkq2ed2BAGzxG2MMQAeGkayxG2MMYBqstshBMwStzHGACRb4jbGGG+xHrcxxniMXZw0xhiPsR63McZ4i9qsEmOM8Ri7OGmMMR5jQyXGGOMxdnHSGGM8xnrcxhjjMXZx0hhjPMYuThpjjLeo2hi3McZ4i41x5x7Fy5Wi+7uPUvSi4mhyMkvH/8DCz+bQoW83rm1WE9/pJA7s3MuXz33EiSPHUz5X4pJS9J37DnP+O4X5n8xy8RtkXcwvy0hISMDnSyYpKYm69dq4HVKWRUaW46NP3qZMmdIkJyfz+WcT+WjY51x7bTXeG9KfwkUKs/O3OB7s+QxHjya4HW6WfPTRYFq3bsL+/QepVasFANdddzXvvz+AAgUKkJTk46mnXmLlynUuR3puPhnxDm3bNGPf/gNUr9HU7XAC56Ghkjz/BJzkJB/TXh/LwGbP8l7n/3Dz3S0oUzmS6MUbGNTiOd5s3Yd9v+6h2aOd/va5zv+5h80L1roUdfY1a34btW5s4cmkDZCUlMRLfd+g9g0tadb4Xzz4YHeqVqvM+x8O5NVXBnNTnTbMmvkdTz71oNuhZtnYsZPp2LHH38oGDOjLgAFDqFu3Df37v8uAAX1dii77xoyZRNt23dwOI+s0OfDNZXk+cR/Zf5i4TTsAOHXsJHu37aJ42ZJEL1pPss//A/htTQzFy5ZM+cz/tajFgZ372BMT50bIBti7dz/r1m0CICHhGNHRsVxSrgyVq1zOksU/AzD/hyV06NjSzTDPyZIlP3Po0OG/lakqxYoVAeDCC4sSH7/PjdCCYtHi5Rz643DmFXMbX2Lgm8tyPHGLyH053eYZJctfRPmrK7Jjbezfyuvc1ogtTu86f8ECNH24A98MmeJGiEGhqsyZPZ7ly+bwQE8P9nzOcumlkVx3/TWsXLmOLZtjaNO2GQCdOrcmMrKcy9EFx3PP9eONN14gJmYpAwe+yMsvv+l2SOef5OTAtwyISFURWZtqOyIiT4lISRGZKyIxzmsJp76IyFARiRWR9SJSM7NQ3ehxv5beARGJEpGVIrJy49FtQW00f6EC3D/8af7XbzSnEk6klDd/rBPJPh8rpy0GoPXTt7Fg5GxOHz8V1PZzUsNGnahdpxXt2nfnkUfu5eab67gd0jkrXLgQY78YRt8+/Tl6NIHHHu3Dg1HdWbhoOkWKFibxtPu9n2CIiupO7979qVKlHr1792P48LfcDun8E6ShElWNVtXqqloduAE4DkwFngfmqWoVYJ6zD9AaqOJsUcDwzEINycVJEVmf3iGgTHqfU9URwAiAXhXv1GDFExYRzv0fPcPKaYtZ/+2KlPIbu9zCNU1r8uFdr6eUXVa9Mte3qUOHvt0oWKwQmqwknUpk0ZhvgxVOyMXH7wVg//6DTJs+hxtvrM7ixctdjirrIiIiGPvFh0yaOJ2ZM74DIOaX7XTueC8AV1SuSMuWjV2MMHi6devCs8++CsBXX33NsGHW485xobk42RTYpqq/iUhHoJFTPhpYAPQBOgJjVFWBZSJSXETKqWp8eicN1aySMkBL4I+zygX4KURtpqvrmw+xN3YXC0bOTimr1vB6mj3cgaF3vEbiydMp5UNvfzXlfaun/sWpYyc9lbQLFSpIWFgYCQnHKFSoIM2bNeT1Ae+5HdY5+WDYIKKjt/HhB6NSykpfVIoD+w8iIjzX+3FGjfzSxQiDJz5+Hw0a1GXRomU0alSf2Ngdbod0/slC4haRKPy94zNGOB3Ps90JjHfelzmTjFU1XkQudsojgd9TfSbOKcvxxD0LKKKq/5iWISILQtRmmirVqkrtLrewe8tvPDd7EABfvzWBW1+9l4j8+Xh03IuA/wLlpBdH5mRoIVGmzEVMmez/HuER4UyYMI3vvlvgblDnoG69G+h6V2c2btzKop9mAtDv1Xe4onJFHnywOwAzZ3zLuLHeuxYxevRQGjSoR+nSJYiNXUb//u/x2GN9GDz4VSIiwjl16hSPP/585ifKpcaN/ZCGt9SjdOmS7Ni+ktf6vc1nn09wO6xMaRYuOqYeHUiPiOQHOgCZTRGStJrI8AP+3nnuE8yhktxi2O5FbocQEoXyX+B2CEF32kPrVmRFYh79Xkmnd6WV/LLkxPxPA845BRs/kGl7ztDIY6rawtmPBho5ve1ywAJVrSoiHzvvx59dL71z5/npgMYYE5AgzSpJpSt/DZMAzADOTODvAUxPVX6PM7ukLvBnRkkbzoM7J40xJiBBvLFGRAoBzYGHUhUPAiaJSE9gJ3CbUz4baAPE4p+BkumUaUvcxhgDQZ1VoqrHgVJnlR3EP8vk7LoKPJaV81viNsYYyBW3sgfKErcxxgAkeefCrSVuY4wB63EbY4zneGhZV0vcxhgD1uM2xhjPsR63McZ4jPW4jTHGY2xWiTHGeEwuXbcpLZa4jTEGbIzbGGM8xxK3McZ4jF2cNMYYj/H53I4gYLk2cX+YBx86cPCOam6HEBJlJse4HULQhYfZUvXnHRsqMcYYj7HEbYwxHmNj3MYY4y2abPO4jTHGW2yoxBhjPMZDs0rs0rkxxkBQn/IuIsVFZIqIbBWRLSJST0RKishcEYlxXks4dUVEhopIrIisF5GamZ3fErcxxkBQEzcwBPhGVasB1wNbgOeBeapaBZjn7AO0Bqo4WxQwPLOTW+I2xhjwLzIV6JYBESkG3AKM9J9WT6vqYaAjMNqpNhro5LzvCIxRv2VAcREpl1EblriNMQay1OMWkSgRWZlqi0p1pkrAfuAzEVkjIp+KSGGgjKrGAzivFzv1I4HfU30+zilLl12cNMYYgCxMB1TVEcCIdA5HADWBJ1R1uYgM4a9hkbRIWk1k1L71uI0xBvyzSgLdMhYHxKnqcmd/Cv5EvvfMEIjzui9V/QqpPl8e2J1RA5a4jTEG0OTkgLcMz6O6B/hdRKo6RU2BzcAMoIdT1gOY7ryfAdzjzC6pC/x5ZkglPTZUYowxkKWhkgA8AXwhIvmB7cB9+DvKk0SkJ7ATuM2pOxtoA8QCx526GbLEbYwxENS1SlR1LVArjUNN06irwGNZOb8lbmOMgWD3uEPKErcxxgAkeeeWd0vcxhgDnlrW9byeVdKyRSM2bfyRrZsX0/u5LA0x5QpF3/2CIm98QpHXP6bwa8MAiKh9C0UGjqTY6LmEX37lX5XDwykY1cdff9AoCrTv6lLUgfv448Hs3LmaVavm/uPYU09FcfLkTkqVKuFCZOcuMrIcs+eMZ9Xq71mx8jsefdR/Hapz5zasWPkdRxO2U6Pm/7kcZfZ8MuIddsetY+2aeW6HkjXJGvjmsvM2cYeFhTF0yADate/O/13fmDvu6MRVV1VxO6wsO/bGsyS89BDHXnkUgOS4HRwf8gq+6PV/q5evdkPIl4+EFx4k4eVHyN+4HVK6jBshB2zs2Ml06HDPP8rLly9H06YN2LkzzoWossfnS+KFvq9zQ81mNG7UmaiH7qZatcps3hzNXV0fZvHin90OMdvGjJlE23bd3A4jy4I1HTAnnLeJu/aNNdi2bQe//rqTxMREJk2aTof2Ld0OK9uSd+8keU8aCU0VKXABhIUh+QugSUlw4njOB5gFixf/zB9/HP5H+VtvvcILL7yBZrJmRG60Z89+1q7dBEBCwjGio7dxySVliY7eRkzMdpejC45Fi5dzKI2fW67noR53yMa4RaQa/vvtl6tqQqryVqr6TajaDdQlkWX5Pe6vm5PidsVT+8YaLkZ0LpTCfd4CVU7Nn0Xi/K/TrZm44kcibqhP0fcnIwUKcOKL4eixozkYa3C0bduc3bv3sGHDFrdDybZLLy3P9ddfzYoVa90OxUCuSMiBCkniFpEn8c9L3AKMFJFeqnrmLqE3ANcTt8g/lwfwWg8uoV8v9PBBpFhxCvd5i+TdO/FFb0izbnilapDs4+iTtyOFi1L4pf+StHE1uj/DG7RylYIFL6BPn8dp166726FkW+HChfhy/HB69+7H0aMJmX/AhJ49SIEHgRtUtRPQCPiPiPRyjqW1oIr/QKoVt5KTj4UoNL9dcfFUKH9Jyn75yHLEx+8NaZvBpocP+l+PHCZx5WLCr6iWbt18NzUlaf0K8PnQI4fx/bKRiNQXLz2gUqXLqFixAitWfEN09BIiI8uxbNlsypS5yO3QsiQiIoIvv/yIiROmMWP6t26HYxyarAFvbgtV4g4/MzyiqjvwJ+/WIvIuGSRuVR2hqrVUtVZYWOEQhea3YuVaKle+nIoVK5AvXz5uv70jM2d9F9I2g6rABXBBwZT3Ef9Xi+Tfd6RbPfnAPiKurpFSP7zy1fjif0+3fm60aVM0l15ak6pV61O1an127Yqnbt027N273+3QsmT48DeJjo7l/fdHuh2KSc1DY9yhStx7RKT6mR0nibcDSgO5Yq6Tz+ej11MvMfvrL9m4fgFTpsxk8+Zf3A4rYFKsBEX+M4QiA0ZQ5NUPSVq7jKQNK/zj2EMmEF75ago9+waFnhsEwOnvpyEXFKTIwJEUeW0Yp3/8huTfc/fFsDFj3mfBgmlceWUlYmOXc++9d7gdUrbVq1eLu7p1oWHDeixdNpuly2bTsmUj2ndoyS8xS6lTpwb/+2oU06ePcTvUczZu7Ics/nEGVa+8gh3bV3LfvXe6HVJggvsEnJCSUIzrikh5IMlZJevsY/VVdUlm54jIH+n+r7UgO3hH+kMZXlZmcozbIQRdeFjenHB1KinR7RBCIun0rnT/kg/U0UdbB5xzig6bk+32siMkFydVNd0JtoEkbWOMyXG5YAgkUHbLuzHGAOpzfwgkUJa4jTEGrMdtjDFekxum+QXKErcxxoD1uI0xxnO8M8RtidsYYwA0KXiZW0R2AEcBH/6p0bVEpCQwEagI7ABuV9U/xL/+xhD8z508DtyrqqszOn/enKxqjDFZlZyFLTCNVbW6qp559uTzwDxVrQLMc/YBWgNVnC0KGJ7ZiS1xG2MMObJWSUdgtPN+NNApVfkY9VsGFBeRchmdyBK3McZAlnrcqRfEc7aos86mwHcisirVsTKqGg/gvF7slEcCqRcOinPK0mVj3MYYQ9amA6rqCGBEBlXqq+puEbkYmCsiWzOom9bt8xkGYz1uY4yBoI5xq+pu53UfMBWoDew9MwTivO5zqscBFVJ9vDywmwxY4jbGGECTAt8yIiKFRaTomfdAC2AjMAPo4VTrAZx5uMwM4B7xqwv8eWZIJT02VGKMMYAGbzZgGWCq85StCOBLVf1GRFYAk0SkJ7ATuM2pPxv/VMBY/NMB78usAUvcxhgDQbsBR1W3A9enUX4QaJpGueJ/1GPALHEbYwxB7XGHnCVuY4zBEndQ5AvPtaGds2ozvfNE9ayofOElmVfymHwS7nYIIbHh0A63Q8i11OfqQ22yJO9lR2OMOQfW4zbGGI/RZOtxG2OMp1iP2xhjPEbVetzGGOMp1uM2xhiPSbZZJcYY4y12cdIYYzzGErcxxniMeuch7+knbhGZSQaLeatqh5BEZIwxLsgrPe63cywKY4xxWZ6YDqiqC3MyEGOMcZMvL80qEZEqwEDgauCCM+WqWimEcRljTI7yUo87kEeXfQYMB5KAxsAYYGwogzLGmJymyRLw5rZAEndBVZ0HiKr+pqqvAk1CG5YxxuQs1cA3twUyHfCkiIQBMSLyOLALuDi0YRljTM7KDT3pQAXS434KKAQ8CdwA3M1fTyo2xpg8wZccFvAWCBEJF5E1IjLL2b9cRJaLSIyITBSR/E55AWc/1jleMbNzZxqBqq5Q1QRVjVPV+1T1VlVdFlDkudBHHw3mt99WsXLldyll1113NQsXTmXZstksXjyTWrX+8ZzPXO/n9XP5Yck05i76H9/MnwRAu44tWbB0BrsObeT66te4HGHWdX/wdqYu/IJpC7+ke9QdALRo34RpC79kffxPXHN9NZcjPDddH7iNyQvGMmXhOO568HYArry6MqNnfcyk+WP475g3KVykkMtRnrtPRrzD7rh1rF0zz+1QsiQEQyW9gC2p9t8E3lPVKsAfQE+nvCfwh6pWBt5z6mUo08QtIvNF5Iezt4BDz2XGjp1Mx45//4NhwIC+DBgwhLp129C//7sMGNDXpeiy51/t76V5g1tp1difDKK3xNDz7idZ9tNKlyPLusrVKtGle0e6trqfLk3upmHzm7n08grEbt3OU/c/z6qla90O8ZxcUe1ybu3egbtbP8AdTXpwS/ObuPTy8rz87vMMHTCc2xvfw/w5P9Lj0W5uh3rOxoyZRNt23os/WSXgLTMiUh5oC3zq7Av+a4NTnCqjgU7O+47OPs7xpk79dAXS5/838Jyz/QdYC2SaCUSktojc6Ly/WkSeEZE2AbQXUkuW/MyhQ4f/VqaqFCtWBIALLyxKfPw+N0ILuphftrMtdofbYZyTSlUqsn7VJk6eOIXP52PlT6tp2qYh22N2sGPbTrfDO2eXV6nIhlTfa9XStTRucwuXXXFpyi+jZQtX0LRdQ5cjPXeLFi/n0B+HM6+Yy6hKwJuIRInIylRb1Fmn+y/QGzizWGwp4LCqJjn7cUCk8z4S+N0fgyYBfzr105XpxUlVXXVW0RIRyfDmHBF5BWgNRIjIXKAOsAB4XkRqqOqAzNrNSc8914+ZM8cwcOCLhIWF0bjxrW6HlGWqyoSpn6KqjP1sEuNGT3Y7pGyJ3bqdJ/s+zIUlinHq5CkaNLuJTeu2uh1Wtm3bup3Hn49K+V43N63H5nVb2bZ1O41a3syCbxfTvH1jylxSxu1QzztZmS2iqiOAEWkdE5F2wD5VXSUijc4Up3WaAI6lKZAbcEqm2g3Df4GybCYf+xdQHSgA7AHKq+oRERkMLAfSTNzOb60ogIiIkkREFMksvKCIiupO7979mTZtDl26tGX48Ldo29Zbf+p1aNmNvXv2U6p0SSZO+5TYmO0s++ns37nesT1mB6M+GMsnk97n+LHj/LIpBl9SUuYfzOV+jfmNzz/4guET/8uJYyf4ZVMsSUk+Xn36DXq//jQPPnMfC79bTOLpRLdDPe8EMgQSoPpAB2eE4QKgGP4eeHERiXB61eWB3U79OKACECciEcCFwKGMGghkqGQV/qGRVcBS4Fn+GlRPT5Kq+lT1OLBNVY8AqOoJ/vrT4R9UdYSq1lLVWjmVtAG6devCtGlzAPjqq689eXFy7579ABw8cIg5s+ZRveZ1LkeUff/7cia3N+/BvZ0e4c/DR/hte5zbIQXFtPGzuKvF/fTs/Bh/Hj7Czl9/Z0fsTh6982m6tezJN1O/J+63XW6Hed4J1qwSVe2rquVVtSJwJ/CDqnYD5uPv1IJ/Zt505/0M/pqp9y+nfoY97kAS91WqWklVL1fVKqraAliRyWdOi8iZy+I3nCkUkQvJIHG7JT5+Hw0a1AWgUaP6xHpsXLhgoYIpsxAKFipIw8Y3Eb0lxuWosq9k6RIAlI0sQ9M2jZgz9btMPuENJUoXB/zfq0mbhnwz9fuUMhHhwad7MGXMNDdDPC9pFrZz1Ad4RkRi8Y9hj3TKRwKlnPJngOczO5FkktgRkdWqWjOzsrOOF1DVU2mUlwbKqeqGzAIrWPCykNyfNHr0UBo0qEfp0iXYt+8A/fu/R0zMNgYPfpWIiHBOnTpFr14vsWbNxqC3XbxA4aCfE+DSy8oz6ouhAESERzB1ytcMeedjWrdryutvvkip0iU58ucRNm3YStcuZ19Dyb5SBYoF/ZwAo6d/RPESF5KUlMRbrwxh+aKVNG3dkL5vPEvJUsU5eiSBrRt/4aE7nwp62/kkPOjnPGPktGEUL1mMpMQk3nnlfX5evIquD9zGHff5r638MHshQwd8FJK2NxzaEZLzpjZu7Ic0vKUepUuXZO/eA7zW720++3xCSNtMOr0r2+McP5XrEnDOuSn+K1fv1kk3cYtIWfxXO8cBd/HXAHox4CNVDekk2lAlbjeFKnG7LVSJ202hTNxuyonE7YZgJO4lZf8VcM6pv2eKq4k7o4uTLYF78Q+iv8NfifsI8EJowzLGmJyV68ZwM5DRetyjgdEi0kVVv8rBmIwxJsdpmrPycqdALk7eICLFz+yISAkReT2EMRljTI5LUgl4c1sgibu1qqbcBqWqfwCu3wFpjDHBpEjAm9sCWdY1PPUsEREpiP/GGmOMyTPyxBh3KuOAeSLymbN/H38tiGKMMXlCbuhJByqQtUreEpH1QDP8M0u+AS4LdWDGGJOT8lqPG/zrjSQDtwO/AjbLxBiTp/jyQo9bRK7Ef599V+AgMBH/DTuNcyg2Y4zJMR56clmGPe6twCKgvarGAojI0zkSlTHG5LBkD/W4M5oO2AX/EMl8EflERJqS9rqxxhjjeTmwyFTQpJu4VXWqqt4BVMP/EISngTIiMlxEWuRQfMYYkyOSs7C5LZCHBR9T1S9UtR3+dUvWEsCyg8YY4yXJIgFvbgvsOfMOVT2kqh+rapNQBWSMMW7wZWFzW6DTAY0xJk/LK7NKjDHmvOGlWSW5NnH7knPDHyTBdfjUMbdDCImjp0+4HULQ/bFzntshhESFym3dDiHXyg2zRQKVaxO3McbkJC8NlWTp4qQxxuRVwZoOKCIXiMjPIrJORDaJyGtO+eUislxEYkRkoojkd8oLOPuxzvGKmcVqidsYYwCfBL5l4hTQRFWvB6oDrUSkLvAm8J6qVgH+AHo69XsCf6hqZeA9p16GLHEbYwzB63GrX4Kzm8/ZFGgCTHHKRwOdnPcd+Wup7ClAU5GMJ4tb4jbGGLKWuEUkSkRWptqiUp9LRMJFZC2wD5gLbAMOq2qSUyUOiHTeRwK/AzjH/wRKZRSrXZw0xhggK4+SVNURwIgMjvuA6s7zeqcCV6VVzXlNq+UMJ7lYj9sYYwjNWiXO83oXAHWB4iJyprNcHtjtvI8DKgA4xy8EDmV0XkvcxhhD8G55F5GLnJ72mWf0NgO2APOBfznVegDTnfcznH2c4z+oaoY9bhsqMcYYgjqPuxwwWkTC8XeOJ6nqLBHZDEwQkdeBNcBIp/5IYKyIxOLvad+ZWQOWuI0xhuAt16qq64EaaZRvB2qnUX4SuC0rbVjiNsYYcsc624GyxG2MMdhaJcYY4zleWqvEErcxxpA7HpAQKEvcxhgDJHtosMQStzHGYBcnjTHGc7zT3z7PE/fjj/ek5/1dERFGjvqS998fmfmHcqGPPhpM69ZN2L//ILVqtQBg7NgPqFKlEgDFixfj8OEj1K3bxs0wsywyshyffPoOZcpcRHJyMp+NGs+wYZ/zn5efoW3b5iRrMvv3HeShh/7Nnvh9boebrl9/i+PfLw9M2Y/bHc/jD9zNjTWuo9/g9zl1OpHw8HD+8+/H+L+rqwLw8+r1vDnkY5KSkihRvBiffzjYrfADFhYWxrcLJrNn9z7uvvMRps0eS5GihQEoXboUa1av575uT7gcZfq81OOWTO6sdE3+AuVDGtg1V1dl3LgPual+O06fTmTWrHE88cQLxMb+GrI2w8PCQ3Le+vVrc+zYcT799N2UxJ3aoEEv8eefRxg4cGhI2g+X0KycUKbsRZQtezHr1m6iSJHCLFoyk653RLFr1x6OHvWvmvnII/dS7arK9HrypaC2HapHl/l8Ppp0upvxn7zHK4OGcM8dnWlQ70Z+/OlnRn05hc8/eIsjRxPo/vAzfPzO65QrezEH/zhMqRLFg9J+KB9d9tBjPbi++rUULVqEu+985G/HPh0zhG9n/8DkCdPT+XT27Dm8JdtzQl6qeFfAOef1HV+6OgflvF2rpFq1yixfvoYTJ07i8/lY9OMyOnZs5XZY52TJkp85dOhwuse7dGnLpEkzcjCi4Ni7Zz/r1m4CICHhGNHRsZS7pGxK0gYoVLggubXzkZZlK9dSIbIcl5Qtg4iQcOw4AAnHjnNxaf9KnrPnLqBZw/qUK3sxQNCSdiiVu6QMzVo05IuxU/5xrHCRQtx8Sx3mfP29C5EFTrOwuS3HhkpEZIyq3pNT7WVm0+Zo+vXrQ8mSxTlx4iStWjVh1er1bocVdPXr12bv3gNs27bD7VCy5dJLI7n++qtZuWItAK+8+m+63tWZI38epU3ru1yOLnBz5i2kTbOGAPTp9RAPPfMSb3/4KZqsjPv4HQB27Iwjyefj3sd7c/z4Cbrd1pGOrZu5GXam+g/sS/+X304ZGkmtTbvmLF64jISjufth2V4aKglJj1tEZpy1zQRuPbMfijazauvWWAa/PYw5s8cza+Y41m/YTFJSUuYf9Jjbb+/A5Mm54l/5OStcuBBfjB9On979U3rbr736NtWurM/EidN56OFc0x/IUGJiIgsWL6dFkwYATJz6NX2eiGLe1LH0fjKKlwf+FwCfL5nNW2MYNrgfH7/7Oh9/Pp4dO+PcDD1DzVs24sD+Q6xftznN4527tGHqV1/ncFRZl4wGvLktVEMl5YEjwLvAO852NNX7NKV+qkSyL/S/nT//fAJ16ramabN/8cehwyEd33ZDeHg4HTu2YsqUmW6Hcs4iIiL44svhTJwwnRnTv/3H8UkTZ3hmiGvRspVcdeUVlC5ZAoAZc76nWaP6ALRs0oANm6MBKHNxaerXrUWhghdQoviF3FD9WqJz8X+bN9apQYvWjVmx/ns+GvkO9W+pwwcf+x+bWKJEcarfcB3ff7vQ5Sgz56WhklAl7lrAKuBF4E9VXQCcUNWFqpruT2vpVhEAAA93SURBVFBVR6hqLVWtFRb+zz+5gu2ii/xjihUqXEKnTq2ZODE0F07c0qTJzfzyyzZ27drjdijnbNjwN4mOjuWDVDN+rriiYsr7tm2b8csv212ILOtmz11Am+aNUvYvKl2KFWs2ALB81Vouq+B/klXjBnVZvW4jSUk+Tpw8yYZN0VSqWMGNkAPyRr/3qHlNY268rhkP93yWJT8u5/GH+gDQvlNLvv92AadOnXY5ysyF4kEKoRKSMW5VTQbeE5HJzuveULWVHRMnjKBUqRIkJibxZK8XOXz4T7dDOiejRw+lQYN6lC5dgtjYZfTv/x6jR0/kttvae/Ki5Bn16tXirm63snHDVn5a5v9T+9VXBtOjx+1UqVKJ5GRl5++76PXkiy5HmrkTJ0+ydMUaXun9ZErZa32eZNCQj0ny+SiQP3/KsSsqXkr9OrW4tccjhEkYXdq3pEqlii5Fnj2durTh/fc+cTuMgPhyRV86MDkyHVBE2gL1VfWFQD8T6umAbgjVdEC3hWo6oJtCNR3QbaGcDuimYEwH7FXxzoBzzpAdE1ydDpgjvWBV/RrI/VcnjDHnLfVQjzvXDV8YY4wbcsPYdaDy3t+4xhhzDoI1HVBEKojIfBHZIiKbRKSXU15SROaKSIzzWsIpFxEZKiKxIrJeRGpmFqslbmOMIajTAZOAZ1X1KqAu8JiIXA08D8xT1SrAPGcfoDVQxdmigOGZNWCJ2xhjgCQ04C0jqhqvqqud90eBLUAk0BEY7VQbDXRy3ncExqjfMqC4iJTLqA1L3MYYg//iZKD/pL5Z0Nmi0jqniFTE/8T35UAZVY0Hf3IHLnaqRQK/p/pYnFOWLrs4aYwxZO3ipKqOAEZkVEdEigBfAU+p6hGRdGcQpnUgw2699biNMYas9bgzIyL58CftL1T1f07x3jNDIM7rmUXk44DUt8aWB3ZndH5L3MYYQ/BueRd/13oksEVV3011aAbQw3nfA5ieqvweZ3ZJXfzLhMRn1IYNlRhjDOAL3l3k9YG7gQ0istYpewEYBEwSkZ7ATuA259hsoA0QCxwH7susAUvcxhhD8J7yrqqLSXvcGqBpGvUVeCwrbVjiNsYY7JZ3Y4zxHC/d8m6J2xhjCN5QSU6wxG2MMdhQiTHGeE4QZ5WEnCVuY4zBhkqCItlDv/0Cpb689xR5gES3AwiBK6t2djuEkJhQ4Fq3Q8i17OKkMcZ4jI1xG2OMx9hQiTHGeExOPDg9WCxxG2MM4LMetzHGeIsNlRhjjMfYUIkxxniM9biNMcZjbDqgMcZ4jN3ybowxHmNDJcYY4zGWuI0xxmO8NKvEnvJujDH4e9yBbpkRkVEisk9ENqYqKykic0Ukxnkt4ZSLiAwVkVgRWS8iNTM7vyVuY4zBP6sk0H8C8DnQ6qyy54F5qloFmOfsA7QGqjhbFDA8s5Nb4jbGGMCnyQFvmVHVH4FDZxV3BEY770cDnVKVj1G/ZUBxESmX0fktcRtjDP4x7kA3EYkSkZWptqgAmiijqvFOW/HAxU55JPB7qnpxTlm67OKkMcaQtVklqjoCGBGkpiWtJjL6wHmduFu2aMS77/YjPCyMUZ+N563BH7odUtCEhYWxfNkcdu3aQ6fOPdwOJyjyys+raLGivDnkFa68qjKqSu8nXuH+h7tTqfJlABS7sChH/jxK20Z3uBxp+sIK5KP69H6E5Y9AwsPZP2sZOwZPovr0fkQUKQhAvtLFOLomlo33DqZQ5UuoOuQxiv7f5fw6cDy/D5/p8jf4pxy4c3KviJRT1XhnKGSfUx4HVEhVrzywO6MTnbeJOywsjKFDBtCqTVfi4uJZtnQ2M2d9x5YtMW6HFhRPPvEAW7bGUKxoUbdDCYq89PN6ZWBvFs5bwqP3/Zt8+SK4oGBBnnigd8rxF/s9y5EjCS5GmLnkU4msu/U1fMdPIhHh1JjZn0M/rGFtx5dT6lwz8lkOfLMCgMTDCcS+OIrSrWu7FXKmcuBxiTOAHsAg53V6qvLHRWQCUAf488yQSnpyZIxbRG4WkWdEpEVOtBeI2jfWYNu2Hfz6604SExOZNGk6Hdq3dDusoIiMLEfr1k0ZNWq826EETV75eRUpWpja9W5g4ripACQmJnH0yNG/1WnTqQUz/zfHjfCyxHf8JACSLxyJCP/bPOjwwhdQ/OZrOTDHSdwHjnB07TY0Mfc+dzWYs0pEZDywFKgqInEi0hN/wm4uIjFAc2cfYDawHYgFPgEezez8Ielxi8jPqlrbef8g8BgwFXhFRGqq6qAMT5ADLoksy+9xf/01Ercrnto31nAxouB5553X6Nv3dYoULeJ2KEGTV35eFS4rz6GDfzD4g35cdU1VNq7bzGsvvMWJ4ycAqF2vJgf2H2TH9p0uRxqAsDBqzX2TgpeXZdeobzi6OjblUOk2tTm8aCO+hBMuBpg1gcwWCZSqdk3nUNM06ir+HBmwUPW486V6HwU0V9XXgBZAt/Q+lPpKbXLysRCFltLWP8q8dOdUetq0acb+fQdYvWaD26EEVV75eUVEhHPNddX44rPJtGt8B8ePn+CRXvenHG/fpTUzv/rGxQizIDmZlU2fY2n1hyhaszKFq/01THtx55vZO3Wxi8FlXbJqwJvbQpW4w0SkhIiUAkRV9wOo6jEg3b+VVHWEqtZS1VphYYVDFJrfrrh4KpS/JGW/fGQ54uP3hrTNnHDTTbVo164FMb8s44txw2jcuD6jPx/qdljZlld+XvG797Jn917WrvL/Yp0zYy7XXFcNgPDwcFq1bcqsaR5J3I6kI8c5vGQTJRtXByCiRBGK1ajMoe9XuxxZ1gT5BpyQClXivhBYBawESopIWQARKULaU19y3IqVa6lc+XIqVqxAvnz5uP32jsyc9Z3bYWXbSy8N4vJKtahyZV26dX+U+fOX0OPeJ90OK9vyys/rwL6DxO/amzKD5KZb6hAbvR2A+g3rsC3mV/bs3pfRKXKFfKWKEVGsEABhF+SnxC3XcTx2FwAXt6/HwbmrSD6V6GaIWealHndIxrhVtWI6h5KBzqFoM6t8Ph+9nnqJ2V9/SXhYGJ+Pnsjmzb+4HZZJR176eb3y/CDe+3gg+fPlY+dvcTz3uH8mRvtbWzHjf97obecvU5xqQx9HwsOQMGHf9KUcnOvvYV/cqT4735/29/oXFeeG7wYRXrQgJCvlo9ryc4Onc9UYeG7oSQdKcus4YUT+yNwZWDbkij81QiDP/aCACkVLux1CSHwWcaXbIYREo72Ts/2/12Wlrgv4P+XfDq539X/n83YetzHGpJZbO7FpscRtjDHYgxSMMcZzrMdtjDEekxtmiwTKErcxxuCtWSWWuI0xhuDe8h5qlriNMQYb4zbGGM+xMW5jjPEY63EbY4zH2DxuY4zxGOtxG2OMx9isEmOM8Ri7OGmMMR7jpaGSHHlYsDHG5HZBflhwKxGJFpFYEXk+2LFaj9sYYwhej1tEwoEP8T/JPQ5YISIzVHVzUBrAErcxxgBBHeOuDcSq6nYAEZkAdATyfuJOOr0rx54wISJRqjoip9rLKXnxe+XF7wR583t57TtlJeeISBQQlapoRKrvGgn8nupYHFAn+xH+xca4/aIyr+JJefF75cXvBHnze+XF7wSAqo5Q1VqpttS/oNL6BRDUK5+WuI0xJrjigAqp9ssDu4PZgCVuY4wJrhVAFRG5XETyA3cCM4LZQK4d485hnhmHy6K8+L3y4neCvPm98uJ3ypSqJonI48C3QDgwSlU3BbMN8dKkc2OMMTZUYowxnmOJ2xhjPOa8TtwiMkpE9onIRrdjCRYRqSAi80Vki4hsEpFebscUDCJygYj8LCLrnO/1mtsxBYuIhIvIGhGZ5XYswSIiO0Rkg4isFZGVbseT15zXY9wicguQAIxR1WvdjicYRKQcUE5VV4tIUWAV0CmYt9u6QUQEKKyqCSKSD1gM9FLVZS6Hlm0i8gxQCyimqu3cjicYRGQHUEtVD7gdS150Xve4VfVH4JDbcQSTqsar6mrn/VFgC/47uTxN/RKc3XzO5vleh4iUB9oCn7odi/GO8zpx53UiUhGoASx3N5LgcIYU1gL7gLmqmhe+13+B3oB3VvEPjALficgq5/ZwE0SWuPMoESkCfAU8papH3I4nGFTVp6rV8d+JVltEPD28JSLtgH2qusrtWEKgvqrWBFoDjznDkiZILHHnQc4Y8FfAF6r6P7fjCTZVPQwsAFq5HEp21Qc6OOPBE4AmIjLO3ZCCQ1V3O6/7gKn4V8wzQWKJO49xLuKNBLao6rtuxxMsInKRiBR33hcEmgFb3Y0qe1S1r6qWV9WK+G+L/kFVu7scVraJSGHnwjgiUhhoAeSZmVu5wXmduEVkPLAUqCoicSLS0+2YgqA+cDf+3ttaZ2vjdlBBUA6YLyLr8a8FMVdV88z0uTymDLBYRNYBPwNfq+o3LseUp5zX0wGNMcaLzusetzHGeJElbmOM8RhL3MYY4zGWuI0xxmMscRtjjMdY4jZBJyI+ZxriRhGZLCKFsnGuRmdWzRORDiLyfAZ1i4vIo+fQxqsi8u9zjdGYnGaJ24TCCVWt7qy4eBp4OPVB8cvyf3uqOkNVB2VQpTiQ5cRtjNdY4jahtgioLCIVnTXChwGrgQoi0kJElorIaqdnXgRARFqJyFYRWQzceuZEInKviHzgvC8jIlOd9bnXichNwCDgCqe3P9ip95yIrBCR9anX8BaRF0UkWkS+B6rm2L8NY4LAErcJGRGJwL/I0AanqCr+tc9rAMeAl4BmzmJEK4FnROQC4BOgPdAAKJvO6YcCC1X1eqAmsAl4Htjm9PafE5EWQBX862RUB24QkVtE5Ab8t5jXwP+L4cYgf3VjQsqe8m5CoaCz/Cr4e9wjgUuA31I9+KAucDWwxL+8CvnxLz9QDfhVVWMAnEWX0loWtAlwD/hXDQT+FJESZ9Vp4WxrnP0i+BN5UWCqqh532piRrW9rTA6zxG1C4YSz/GoKJzkfS12Ef72RrmfVq07wHpAgwEBV/fisNp4KYhvG5DgbKjFuWQbUF5HKACJSSESuxL/i3+UicoVTr2s6n58HPOJ8NlxEigFH8femz/gWuD/V2HmkiFwM/Ah0FpGCzip27YP83YwJKUvcxhWquh+4FxjvrPi3DKimqifxD4187Vyc/C2dU/QCGovIBvzP1bxGVQ/iH3rZKCKDVfU74EtgqVNvClDUebTbRGAt/nXLF4XsixoTArY6oDHGeIz1uI0xxmMscRtjjMdY4jbGGI+xxG2MMR5jidsYYzzGErcxxniMJW5jjPGY/wc0LKiMnROKBwAAAABJRU5ErkJggg==\n",
>>>>>>> da98dff719a1687a9b190ba5e2c7e325a53c0ff3
      "text/plain": [
       "<Figure size 432x288 with 2 Axes>"
      ]
     },
     "metadata": {
      "needs_background": "light"
     },
     "output_type": "display_data"
    }
   ],
   "source": [
    "plot_confusion_matrix(q, pred)"
   ]
  }
 ],
 "metadata": {
  "kernelspec": {
   "display_name": "Python 3",
   "language": "python",
   "name": "python3"
  },
  "language_info": {
   "codemirror_mode": {
    "name": "ipython",
    "version": 3
   },
   "file_extension": ".py",
   "mimetype": "text/x-python",
   "name": "python",
   "nbconvert_exporter": "python",
   "pygments_lexer": "ipython3",
   "version": "3.7.6"
  },
  "vscode": {
   "interpreter": {
    "hash": "af8259ad5c1c9c7a69bd6ea085234cf8fd3a6a37a71ca551828b314c4d89b0ad"
   }
  }
 },
 "nbformat": 4,
 "nbformat_minor": 2
}
