{
 "cells": [
  {
   "cell_type": "code",
   "execution_count": 14,
   "metadata": {},
   "outputs": [
    {
     "name": "stdout",
     "output_type": "stream",
     "text": [
      "(12610, 1) (12610, 101) (12610, 1)\n"
     ]
    }
   ],
   "source": [
    "import pandas as pd\n",
    "# Taken & PCA\n",
    "# raw_df = pd.read_csv('./features_data_resample/HRV_Takens&pca.csv')\n",
    "# raw_label = pd.read_csv('./features_data_resample/HRV_Takens&pca_label.csv')\n",
    "\n",
    "# Original featuers\n",
    "#raw_df = pd.read_csv('./features_data_resample/HRV_Original.csv')\n",
    "#raw_label = pd.read_csv('./features_data_resample/HRV_Original_label.csv')\n",
    "\n",
    "# HRV+localPHI\n",
    "raw_df = pd.read_csv('./features_data_resample/HRV_all.csv')\n",
    "raw_label = pd.read_csv('./features_data_resample/HRV_all_label.csv')\n",
    "subject_id = pd.read_csv('./features_data_resample/subjectId.csv')\n",
    "X = raw_df\n",
    "y = raw_label\n",
    "print(y.shape,X.shape, subject_id.shape)"
   ]
  },
  {
   "cell_type": "code",
   "execution_count": 15,
   "metadata": {},
   "outputs": [],
   "source": [
    "import lightgbm as lgb\n",
    "from sklearn.metrics import accuracy_score\n",
    "import seaborn as sns\n",
    "import matplotlib.pyplot as plt\n"
   ]
  },
  {
   "cell_type": "code",
   "execution_count": 16,
   "metadata": {},
   "outputs": [],
   "source": [
    "import numpy as np\n",
    "def plot_confusion_matrix(actual_val, pred_val, title=None):\n",
    "    confusion_matrix = pd.crosstab(actual_val, pred_val,\n",
    "                                   rownames=['Actual'],\n",
    "                                   colnames=['Predicted'])\n",
    "    \n",
    "    plot = sns.heatmap(confusion_matrix, annot=True, fmt=',.0f')\n",
    "    \n",
    "    if title is None:\n",
    "        pass\n",
    "    else:\n",
    "        plot.set_title(title)\n",
    "        \n",
    "    plt.show()\n",
    "    return confusion_matrix\n",
    "\n",
    "def cal_confmatrix(n_range,y_true,y_pred):\n",
    "    cm  = np.zeros([n_range,n_range])\n",
    "    for i in range(1,n_range+1):\n",
    "        for j in range(1,n_range+1):\n",
    "            cm[i-1,j-1] += sum((y_true == i) & (y_pred == j))\n",
    "    return cm\n",
    "\n"
   ]
  },
  {
   "cell_type": "code",
   "execution_count": 17,
   "metadata": {},
   "outputs": [
    {
     "name": "stdout",
     "output_type": "stream",
     "text": [
      "Accuracy: 0.46934865900383144\n",
      "Accuracy: 0.2590909090909091\n",
      "Accuracy: 0.44107142857142856\n",
      "Accuracy: 0.5058823529411764\n",
      "Accuracy: 0.5767326732673267\n",
      "Accuracy: 0.25382262996941896\n",
      "Accuracy: 0.5270588235294118\n",
      "Accuracy: 0.6169014084507042\n",
      "Accuracy: 0.4816247582205029\n",
      "Accuracy: 0.6913265306122449\n",
      "Accuracy: 0.45315487571701724\n",
      "Accuracy: 0.48758465011286684\n",
      "Accuracy: 0.6674876847290641\n",
      "Accuracy: 0.4841897233201581\n",
      "Accuracy: 0.49283667621776506\n",
      "Accuracy: 0.48897795591182364\n",
      "Accuracy: 0.6253443526170799\n",
      "Accuracy: 0.4901315789473684\n",
      "Accuracy: 0.521551724137931\n",
      "Accuracy: 0.4166666666666667\n",
      "Accuracy: 0.36792452830188677\n",
      "Accuracy: 0.420824295010846\n",
      "Accuracy: 0.3926829268292683\n",
      "Accuracy: 0.49560117302052786\n",
      "Accuracy: 0.3985239852398524\n",
      "Accuracy: 0.45706371191135736\n",
      "Accuracy: 0.6212121212121212\n",
      "Accuracy: 0.536697247706422\n",
      "Accuracy: 0.5077881619937694\n",
      "Accuracy: 0.5340236686390533\n"
     ]
    }
   ],
   "source": [
    "N = int(subject_id.max())\n",
    "CM = np.zeros([4,4])\n",
    "for i in range(1,N+1):\n",
    "    sub_id = (subject_id['1'] == i) # The ['1'] is to select first column so that the range will be a series not df\n",
    "    X_test = X[sub_id]\n",
    "    X_train = X[~sub_id]\n",
    "    y_test = y[sub_id].values.flatten() # The Model expect 1d array\n",
    "    y_train = y[~sub_id].values.flatten()\n",
    "    model = lgb.LGBMClassifier(is_unbalance=False)\n",
    "    model.fit(X_train,y_train)\n",
    "    pred=model.predict(X_test)\n",
    "    print(\"Accuracy:\", accuracy_score(y_test, pred))\n",
    "    CM += cal_confmatrix(4 ,y_test,pred)"
   ]
  },
  {
   "cell_type": "code",
   "execution_count": 18,
   "metadata": {},
   "outputs": [
    {
     "name": "stdout",
     "output_type": "stream",
     "text": [
      "Acc =  0.4880253766851705\n",
      "macroF1 =  0.43695842101156335\n"
     ]
    }
   ],
   "source": [
    "print('Acc = ', sum(np.diag(CM))/sum(sum(CM)))\n",
    "stat = np.zeros([3,4])\n",
    "for i in range(4):\n",
    "    stat[0,i] = CM[i,i]/sum(CM[:,i])\n",
    "    stat[1,i] = CM[i,i]/sum(CM[i,:])\n",
    "    stat[2,i] = 2*stat[0,i]*stat[1,i]/(stat[0,i]+stat[1,i])\n",
    "    \n",
    "macroF1 = sum(stat[2,:])/4\n",
    "print('macroF1 = ', macroF1)"
   ]
  },
  {
   "cell_type": "code",
   "execution_count": 19,
   "metadata": {},
   "outputs": [
    {
     "data": {
      "image/png": "[encoded data removed]",
      "text/plain": [
       "<Figure size 432x288 with 2 Axes>"
      ]
     },
     "metadata": {
      "needs_background": "light"
     },
     "output_type": "display_data"
    }
   ],
   "source": [
    "plot = sns.heatmap(CM, annot=True, fmt=',.0f')\n",
    "plt.xlabel('Predict')\n",
    "plt.ylabel('True')\n",
    "plt.title('Confusion Matrix')\n",
    "plt.show()"
   ]
  },
  {
   "cell_type": "code",
   "execution_count": 20,
   "metadata": {},
   "outputs": [
    {
     "data": {
      "text/plain": [
       "array([[0.48105182, 0.39948619, 0.43649123],\n",
       "       [0.55384615, 0.40434294, 0.46743129],\n",
       "       [0.47172114, 0.68939544, 0.56015461],\n",
       "       [0.5021398 , 0.19775281, 0.28375655]])"
      ]
     },
     "execution_count": 20,
     "metadata": {},
     "output_type": "execute_result"
    }
   ],
   "source": [
    "np.transpose(stat)"
   ]
  },
  {
   "cell_type": "markdown",
   "metadata": {},
   "source": [
    "# Original Code"
   ]
  },
  {
   "cell_type": "code",
   "execution_count": 21,
   "metadata": {},
   "outputs": [],
   "source": [
    "# # Leave-one-out cross validation cutting\n",
    "# from sklearn.model_selection import train_test_split\n",
    "# X_train, X_test, y_train, y_test = train_test_split(X, y, test_size=0.3, random_state=42, stratify=y)\n",
    "# print('X_train:', X_train.shape)\n",
    "# print('X_test:', X_test.shape)"
   ]
  },
  {
   "cell_type": "code",
   "execution_count": 22,
   "metadata": {},
   "outputs": [],
   "source": [
    "# import lightgbm as lgb\n",
    "# model = lgb.LGBMClassifier(is_unbalance=True)\n",
    "# model.fit(X_train,y_train)"
   ]
  },
  {
   "cell_type": "code",
   "execution_count": 23,
   "metadata": {},
   "outputs": [],
   "source": [
    "# from sklearn.metrics import accuracy_score\n",
    "# pred=model.predict(X_test)\n",
    "# print(\"Accuracy:\", accuracy_score(y_test, pred))"
   ]
  },
  {
   "cell_type": "code",
   "execution_count": 24,
   "metadata": {},
   "outputs": [],
   "source": [
    "# import seaborn as sns\n",
    "# import matplotlib.pyplot as plt\n",
    "# def plot_confusion_matrix(actual_val, pred_val, title=None):\n",
    "    # confusion_matrix = pd.crosstab(actual_val, pred_val,\n",
    "                                   # rownames=['Actual'],\n",
    "                                   # colnames=['Predicted'])\n",
    "    \n",
    "    # plot = sns.heatmap(confusion_matrix, annot=True, fmt=',.0f')\n",
    "    \n",
    "    # if title is None:\n",
    "        # pass\n",
    "    # else:\n",
    "        # plot.set_title(title)\n",
    "        \n",
    "    # plt.show()\n",
    "    # return confusion_matrix"
   ]
  },
  {
   "cell_type": "code",
   "execution_count": 25,
   "metadata": {},
   "outputs": [],
   "source": [
    "# import numpy as np\n",
    "# q = np.array(y_test)\n",
    "# q = q.reshape((-1,))\n",
    "# print(q.shape)\n",
    "# print(pred.shape)"
   ]
  },
  {
   "cell_type": "code",
   "execution_count": 26,
   "metadata": {},
   "outputs": [],
   "source": [
    "# plot_confusion_matrix(q, pred)"
   ]
  }
 ],
 "metadata": {
  "kernelspec": {
   "display_name": "Python 3",
   "language": "python",
   "name": "python3"
  },
  "language_info": {
   "codemirror_mode": {
    "name": "ipython",
    "version": 3
   },
   "file_extension": ".py",
   "mimetype": "text/x-python",
   "name": "python",
   "nbconvert_exporter": "python",
   "pygments_lexer": "ipython3",
   "version": "3.7.6"
  },
  "vscode": {
   "interpreter": {
    "hash": "af8259ad5c1c9c7a69bd6ea085234cf8fd3a6a37a71ca551828b314c4d89b0ad"
   }
  }
 },
 "nbformat": 4,
 "nbformat_minor": 2
}
