{
 "cells": [
  {
   "cell_type": "code",
   "execution_count": 1,
   "metadata": {},
   "outputs": [
    {
     "name": "stdout",
     "output_type": "stream",
     "text": [
      "(10057, 1) (10057, 239) (10057, 1)\n"
     ]
    }
   ],
   "source": [
    "import pandas as pd\n",
    "# Taken & PCA\n",
    "# raw_df = pd.read_csv('./features_data_resample/HRV_Takens&pca.csv')\n",
    "# raw_label = pd.read_csv('./features_data_resample/HRV_Takens&pca_label.csv')\n",
    "\n",
    "# Original featuers\n",
    "#raw_df = pd.read_csv('./features_data_resample/HRV_Original.csv')\n",
    "#raw_label = pd.read_csv('./features_data_resample/HRV_Original_label.csv')\n",
    "\n",
    "# HRV+localPHI\n",
    "raw_df = pd.read_csv('./features_data_resample/HRV_all.csv')\n",
    "raw_label = pd.read_csv('./features_data_resample/HRV_all_label.csv')\n",
    "subject_id = pd.read_csv('./features_data_resample/subjectId.csv')\n",
    "X = raw_df\n",
    "y = raw_label\n",
    "print(y.shape,X.shape, subject_id.shape)"
   ]
  },
  {
   "cell_type": "code",
   "execution_count": 2,
   "metadata": {},
   "outputs": [],
   "source": [
    "import lightgbm as lgb\n",
    "from sklearn.metrics import accuracy_score\n",
    "import seaborn as sns\n",
    "import matplotlib.pyplot as plt\n"
   ]
  },
  {
   "cell_type": "code",
   "execution_count": 3,
   "metadata": {},
   "outputs": [],
   "source": [
    "import numpy as np\n",
    "def plot_confusion_matrix(actual_val, pred_val, title=None):\n",
    "    confusion_matrix = pd.crosstab(actual_val, pred_val,\n",
    "                                   rownames=['Actual'],\n",
    "                                   colnames=['Predicted'])\n",
    "    \n",
    "    plot = sns.heatmap(confusion_matrix, annot=True, fmt=',.0f')\n",
    "    \n",
    "    if title is None:\n",
    "        pass\n",
    "    else:\n",
    "        plot.set_title(title)\n",
    "        \n",
    "    plt.show()\n",
    "    return confusion_matrix\n",
    "\n",
    "def cal_confmatrix(n_range,y_true,y_pred):\n",
    "    cm  = np.zeros([n_range,n_range])\n",
    "    for i in range(1,n_range+1):\n",
    "        for j in range(1,n_range+1):\n",
    "            cm[i-1,j-1] += sum((y_true == i) & (y_pred == j))\n",
    "    return cm\n",
    "\n"
   ]
  },
  {
   "cell_type": "code",
   "execution_count": 4,
   "metadata": {},
   "outputs": [
    {
     "name": "stdout",
     "output_type": "stream",
     "text": [
      "Accuracy: 0.39037433155080214\n",
      "Accuracy: 0.2962962962962963\n",
      "Accuracy: 0.44612068965517243\n",
      "Accuracy: 0.5066225165562914\n",
      "Accuracy: 0.71875\n",
      "Accuracy: 0.5505050505050505\n",
      "Accuracy: 0.46568627450980393\n",
      "Accuracy: 0.6363636363636364\n",
      "Accuracy: 0.49776785714285715\n",
      "Accuracy: 0.7291666666666666\n",
      "Accuracy: 0.37966101694915255\n",
      "Accuracy: 0.42138364779874216\n",
      "Accuracy: 0.43866171003717475\n",
      "Accuracy: 0.5689149560117303\n",
      "Accuracy: 0.6137566137566137\n",
      "Accuracy: 0.49056603773584906\n",
      "Accuracy: 0.5253623188405797\n",
      "Accuracy: 0.68\n",
      "Accuracy: 0.6666666666666666\n",
      "Accuracy: 0.659919028340081\n",
      "Accuracy: 0.5193798449612403\n",
      "Accuracy: 0.48148148148148145\n",
      "Accuracy: 0.38315217391304346\n",
      "Accuracy: 0.5761589403973509\n",
      "Accuracy: 0.3380035026269702\n",
      "Accuracy: 0.5410628019323671\n",
      "Accuracy: 0.4758454106280193\n",
      "Accuracy: 0.5988700564971752\n",
      "Accuracy: 0.14935822637106183\n",
      "Accuracy: 0.38950276243093923\n"
     ]
    }
   ],
   "source": [
    "N = int(subject_id.max())\n",
    "CM = np.zeros([4,4])\n",
    "for i in range(1,N+1):\n",
    "    sub_id = (subject_id['1'] == i) # The ['1'] is to select first column so that the range will be a series not df\n",
    "    X_test = X[sub_id]\n",
    "    X_train = X[~sub_id]\n",
    "    y_test = y[sub_id].values.flatten() # The Model expect 1d array\n",
    "    y_train = y[~sub_id].values.flatten()\n",
    "    model = lgb.LGBMClassifier(is_unbalance=False)\n",
    "    model.fit(X_train,y_train)\n",
    "    pred=model.predict(X_test)\n",
    "    print(\"Accuracy:\", accuracy_score(y_test, pred))\n",
    "    CM += cal_confmatrix(4 ,y_test,pred)"
   ]
  },
  {
   "cell_type": "code",
   "execution_count": 5,
   "metadata": {},
   "outputs": [
    {
     "name": "stdout",
     "output_type": "stream",
     "text": [
      "Acc =  0.4585860594610719\n",
      "macroF1 =  0.40485056293047383\n"
     ]
    }
   ],
   "source": [
    "print('Acc = ', sum(np.diag(CM))/sum(sum(CM)))\n",
    "stat = np.zeros([3,4])\n",
    "for i in range(4):\n",
    "    stat[0,i] = CM[i,i]/sum(CM[:,i])\n",
    "    stat[1,i] = CM[i,i]/sum(CM[i,:])\n",
    "    stat[2,i] = 2*stat[0,i]*stat[1,i]/(stat[0,i]+stat[1,i])\n",
    "    \n",
    "macroF1 = sum(stat[2,:])/4\n",
    "print('macroF1 = ', macroF1)"
   ]
  },
  {
   "cell_type": "code",
   "execution_count": 6,
   "metadata": {},
   "outputs": [
    {
     "data": {
      "image/png": "[encoded data removed]",
      "text/plain": [
       "<Figure size 432x288 with 2 Axes>"
      ]
     },
     "metadata": {
      "needs_background": "light"
     },
     "output_type": "display_data"
    }
   ],
   "source": [
    "plot = sns.heatmap(CM, annot=True, fmt=',.0f')\n",
    "plt.xlabel('Predict')\n",
    "plt.ylabel('True')\n",
    "plt.title('Confusion Matrix')\n",
    "plt.show()"
   ]
  },
  {
   "cell_type": "code",
   "execution_count": 7,
   "metadata": {},
   "outputs": [
    {
     "data": {
      "text/plain": [
       "array([[0.57242991, 0.17772942, 0.27124273],\n",
       "       [0.51870324, 0.49760766, 0.50793651],\n",
       "       [0.42494945, 0.75615832, 0.54411472],\n",
       "       [0.45632334, 0.21916093, 0.29610829]])"
      ]
     },
     "execution_count": 7,
     "metadata": {},
     "output_type": "execute_result"
    }
   ],
   "source": [
    "np.transpose(stat)"
   ]
  },
  {
   "cell_type": "markdown",
   "metadata": {},
   "source": [
    "# Original Code"
   ]
  },
  {
   "cell_type": "code",
   "execution_count": 8,
   "metadata": {},
   "outputs": [],
   "source": [
    "# # Leave-one-out cross validation cutting\n",
    "# from sklearn.model_selection import train_test_split\n",
    "# X_train, X_test, y_train, y_test = train_test_split(X, y, test_size=0.3, random_state=42, stratify=y)\n",
    "# print('X_train:', X_train.shape)\n",
    "# print('X_test:', X_test.shape)"
   ]
  },
  {
   "cell_type": "code",
   "execution_count": 9,
   "metadata": {},
   "outputs": [],
   "source": [
    "# import lightgbm as lgb\n",
    "# model = lgb.LGBMClassifier(is_unbalance=True)\n",
    "# model.fit(X_train,y_train)"
   ]
  },
  {
   "cell_type": "code",
   "execution_count": 10,
   "metadata": {},
   "outputs": [],
   "source": [
    "# from sklearn.metrics import accuracy_score\n",
    "# pred=model.predict(X_test)\n",
    "# print(\"Accuracy:\", accuracy_score(y_test, pred))"
   ]
  },
  {
   "cell_type": "code",
   "execution_count": 11,
   "metadata": {},
   "outputs": [],
   "source": [
    "# import seaborn as sns\n",
    "# import matplotlib.pyplot as plt\n",
    "# def plot_confusion_matrix(actual_val, pred_val, title=None):\n",
    "    # confusion_matrix = pd.crosstab(actual_val, pred_val,\n",
    "                                   # rownames=['Actual'],\n",
    "                                   # colnames=['Predicted'])\n",
    "    \n",
    "    # plot = sns.heatmap(confusion_matrix, annot=True, fmt=',.0f')\n",
    "    \n",
    "    # if title is None:\n",
    "        # pass\n",
    "    # else:\n",
    "        # plot.set_title(title)\n",
    "        \n",
    "    # plt.show()\n",
    "    # return confusion_matrix"
   ]
  },
  {
   "cell_type": "code",
   "execution_count": 12,
   "metadata": {},
   "outputs": [],
   "source": [
    "# import numpy as np\n",
    "# q = np.array(y_test)\n",
    "# q = q.reshape((-1,))\n",
    "# print(q.shape)\n",
    "# print(pred.shape)"
   ]
  },
  {
   "cell_type": "code",
   "execution_count": 13,
   "metadata": {},
   "outputs": [],
   "source": [
    "# plot_confusion_matrix(q, pred)"
   ]
  }
 ],
 "metadata": {
  "kernelspec": {
   "display_name": "Python 3",
   "language": "python",
   "name": "python3"
  },
  "language_info": {
   "codemirror_mode": {
    "name": "ipython",
    "version": 3
   },
   "file_extension": ".py",
   "mimetype": "text/x-python",
   "name": "python",
   "nbconvert_exporter": "python",
   "pygments_lexer": "ipython3",
   "version": "3.7.6"
  },
  "vscode": {
   "interpreter": {
    "hash": "af8259ad5c1c9c7a69bd6ea085234cf8fd3a6a37a71ca551828b314c4d89b0ad"
   }
  }
 },
 "nbformat": 4,
 "nbformat_minor": 2
}
