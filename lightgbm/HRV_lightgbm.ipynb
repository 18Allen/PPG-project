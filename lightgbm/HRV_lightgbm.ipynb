{
 "cells": [
  {
   "cell_type": "code",
   "execution_count": 4,
   "metadata": {},
   "outputs": [
    {
     "name": "stdout",
     "output_type": "stream",
     "text": [
      "(84447, 1) (84447, 97) (84447, 1)\n"
     ]
    }
   ],
   "source": [
    "import pandas as pd\n",
    "# Taken & PCA\n",
    "# raw_df = pd.read_csv('./features_data_resample/HRV_Takens&pca.csv')\n",
    "# raw_label = pd.read_csv('./features_data_resample/HRV_Takens&pca_label.csv')\n",
    "\n",
    "# Original featuers\n",
    "#raw_df = pd.read_csv('./features_data_resample/HRV_Original.csv')\n",
    "#raw_label = pd.read_csv('./features_data_resample/HRV_Original_label.csv')\n",
    "\n",
    "# HRV+localPHI\n",
    "raw_df = pd.read_csv('./features_data_resample/HRV_all.csv')\n",
    "raw_label = pd.read_csv('./features_data_resample/HRV_all_label.csv')\n",
    "subject_id = pd.read_csv('./features_data_resample/subjectId.csv')\n",
    "X = raw_df\n",
    "y = raw_label\n",
    "print(y.shape,X.shape, subject_id.shape)"
   ]
  },
  {
   "cell_type": "code",
   "execution_count": 14,
   "metadata": {},
   "outputs": [],
   "source": [
    "import lightgbm as lgb\n",
    "from sklearn.metrics import accuracy_score\n",
    "import seaborn as sns\n",
    "import matplotlib.pyplot as plt\n"
   ]
  },
  {
   "cell_type": "code",
   "execution_count": 5,
   "metadata": {},
   "outputs": [],
   "source": [
    "import numpy as np\n",
    "def plot_confusion_matrix(actual_val, pred_val, title=None):\n",
    "    confusion_matrix = pd.crosstab(actual_val, pred_val,\n",
    "                                   rownames=['Actual'],\n",
    "                                   colnames=['Predicted'])\n",
    "    \n",
    "    plot = sns.heatmap(confusion_matrix, annot=True, fmt=',.0f')\n",
    "    \n",
    "    if title is None:\n",
    "        pass\n",
    "    else:\n",
    "        plot.set_title(title)\n",
    "        \n",
    "    plt.show()\n",
    "    return confusion_matrix\n",
    "\n",
    "def cal_confmatrix(n_range,y_true,y_pred):\n",
    "    cm  = np.zeros([n_range,n_range])\n",
    "    for i in range(1,n_range+1):\n",
    "        for j in range(1,n_range+1):\n",
    "            cm[i-1,j-1] += sum((y_true == i) & (y_pred == j))\n",
    "    return cm\n",
    "\n"
   ]
  },
  {
   "cell_type": "code",
   "execution_count": 6,
   "metadata": {},
   "outputs": [
    {
     "name": "stdout",
     "output_type": "stream",
     "text": [
      "Accuracy: 0.6354334438654666\n",
      "Accuracy: 0.60695339143615\n",
      "Accuracy: 0.604490337248958\n",
      "Accuracy: 0.6151004168245547\n",
      "Accuracy: 0.6147214854111406\n",
      "Accuracy: 0.5865858279651384\n",
      "Accuracy: 0.6276998863205759\n",
      "Accuracy: 0.6489200454717696\n"
     ]
    }
   ],
   "source": [
    "N = int(subject_id.max())\n",
    "n_stage = 3\n",
    "CM = np.zeros([n_stage,n_stage])\n",
    "for i in range(1,N+1):\n",
    "    sub_id = (subject_id['1'] == i) # The ['1'] is to select first column so that the range will be a series not df\n",
    "    X_test = X[sub_id]\n",
    "    X_train = X[~sub_id]\n",
    "    y_test = y[sub_id].values.flatten() # The Model expect 1d array\n",
    "    y_train = y[~sub_id].values.flatten()\n",
    "    model = lgb.LGBMClassifier(is_unbalance=False)\n",
    "    model.fit(X_train,y_train)\n",
    "    pred=model.predict(X_test)\n",
    "    print(\"Accuracy:\", accuracy_score(y_test, pred))\n",
    "    CM += cal_confmatrix(n_stage ,y_test,pred)"
   ]
  },
  {
   "cell_type": "code",
   "execution_count": 9,
   "metadata": {},
   "outputs": [
    {
     "name": "stdout",
     "output_type": "stream",
     "text": [
      "Acc =  0.6174878918138004\n",
      "macroF1 =  0.5939169503652887\n"
     ]
    }
   ],
   "source": [
    "print('Acc = ', sum(np.diag(CM))/sum(sum(CM)))\n",
    "stat = np.zeros([3,n_stage])\n",
    "for i in range(n_stage):\n",
    "    stat[0,i] = CM[i,i]/sum(CM[:,i])\n",
    "    stat[1,i] = CM[i,i]/sum(CM[i,:])\n",
    "    stat[2,i] = 2*stat[0,i]*stat[1,i]/(stat[0,i]+stat[1,i])\n",
    "    \n",
    "macroF1 = sum(stat[2,:])/n_stage\n",
    "print('macroF1 = ', macroF1)"
   ]
  },
  {
   "cell_type": "code",
   "execution_count": 15,
   "metadata": {},
   "outputs": [
    {
     "data": {
      "image/png": "[encoded data removed]",
      "text/plain": [
       "<Figure size 432x288 with 2 Axes>"
      ]
     },
     "metadata": {
      "needs_background": "light"
     },
     "output_type": "display_data"
    }
   ],
   "source": [
    "plot = sns.heatmap(CM, annot=True, fmt=',.0f')\n",
    "plt.xlabel('Predict')\n",
    "plt.ylabel('True')\n",
    "plt.title('Confusion Matrix')\n",
    "plt.show()"
   ]
  },
  {
   "cell_type": "code",
   "execution_count": 26,
   "metadata": {},
   "outputs": [
    {
     "name": "stdout",
     "output_type": "stream",
     "text": [
      "[[18940.  3635.  7358.]\n",
      " [ 6140.  8000.  3609.]\n",
      " [ 8675.  2885. 25205.]]\n",
      "[[0.56110206 0.63274647 0.59477453]\n",
      " [0.55096419 0.45072962 0.49583191]\n",
      " [0.69680969 0.68557052 0.69114441]]\n"
     ]
    }
   ],
   "source": [
    "statt = np.transpose(stat)\n",
    "print(CM)\n",
    "print(statt)\n",
    "# name of csv file \n",
    "filename = \"result.csv\"\n",
    "DF = pd.DataFrame(np.concatenate((CM,statt),axis=1))\n",
    "DF.to_csv(filename)"
   ]
  },
  {
   "cell_type": "markdown",
   "metadata": {},
   "source": [
    "# Original Code"
   ]
  },
  {
   "cell_type": "code",
   "execution_count": 21,
   "metadata": {},
   "outputs": [],
   "source": [
    "# # Leave-one-out cross validation cutting\n",
    "# from sklearn.model_selection import train_test_split\n",
    "# X_train, X_test, y_train, y_test = train_test_split(X, y, test_size=0.3, random_state=42, stratify=y)\n",
    "# print('X_train:', X_train.shape)\n",
    "# print('X_test:', X_test.shape)"
   ]
  },
  {
   "cell_type": "code",
   "execution_count": 22,
   "metadata": {},
   "outputs": [],
   "source": [
    "# import lightgbm as lgb\n",
    "# model = lgb.LGBMClassifier(is_unbalance=True)\n",
    "# model.fit(X_train,y_train)"
   ]
  },
  {
   "cell_type": "code",
   "execution_count": 23,
   "metadata": {},
   "outputs": [],
   "source": [
    "# from sklearn.metrics import accuracy_score\n",
    "# pred=model.predict(X_test)\n",
    "# print(\"Accuracy:\", accuracy_score(y_test, pred))"
   ]
  },
  {
   "cell_type": "code",
   "execution_count": 24,
   "metadata": {},
   "outputs": [],
   "source": [
    "# import seaborn as sns\n",
    "# import matplotlib.pyplot as plt\n",
    "# def plot_confusion_matrix(actual_val, pred_val, title=None):\n",
    "    # confusion_matrix = pd.crosstab(actual_val, pred_val,\n",
    "                                   # rownames=['Actual'],\n",
    "                                   # colnames=['Predicted'])\n",
    "    \n",
    "    # plot = sns.heatmap(confusion_matrix, annot=True, fmt=',.0f')\n",
    "    \n",
    "    # if title is None:\n",
    "        # pass\n",
    "    # else:\n",
    "        # plot.set_title(title)\n",
    "        \n",
    "    # plt.show()\n",
    "    # return confusion_matrix"
   ]
  },
  {
   "cell_type": "code",
   "execution_count": 25,
   "metadata": {},
   "outputs": [],
   "source": [
    "# import numpy as np\n",
    "# q = np.array(y_test)\n",
    "# q = q.reshape((-1,))\n",
    "# print(q.shape)\n",
    "# print(pred.shape)"
   ]
  },
  {
   "cell_type": "code",
   "execution_count": 26,
   "metadata": {},
   "outputs": [],
   "source": [
    "# plot_confusion_matrix(q, pred)"
   ]
  }
 ],
 "metadata": {
  "kernelspec": {
   "display_name": "Python 3",
   "language": "python",
   "name": "python3"
  },
  "language_info": {
   "codemirror_mode": {
    "name": "ipython",
    "version": 3
   },
   "file_extension": ".py",
   "mimetype": "text/x-python",
   "name": "python",
   "nbconvert_exporter": "python",
   "pygments_lexer": "ipython3",
   "version": "3.9.5 (default, May 18 2021, 14:42:02) [MSC v.1916 64 bit (AMD64)]"
  },
  "vscode": {
   "interpreter": {
    "hash": "af8259ad5c1c9c7a69bd6ea085234cf8fd3a6a37a71ca551828b314c4d89b0ad"
   }
  }
 },
 "nbformat": 4,
 "nbformat_minor": 2
}
