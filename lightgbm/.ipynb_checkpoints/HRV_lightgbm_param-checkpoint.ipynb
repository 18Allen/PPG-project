{
 "cells": [
  {
   "cell_type": "code",
   "execution_count": 112,
   "metadata": {},
   "outputs": [
    {
     "name": "stdout",
     "output_type": "stream",
     "text": [
      "(11639, 1) (11639, 149) (11639, 1)\n"
     ]
    }
   ],
   "source": [
    "import pandas as pd\n",
    "# Taken & PCA\n",
    "# raw_df = pd.read_csv('./features_data_resample/HRV_Takens&pca.csv')\n",
    "# raw_label = pd.read_csv('./features_data_resample/HRV_Takens&pca_label.csv')\n",
    "\n",
    "# Original featuers\n",
    "#raw_df = pd.read_csv('./features_data_resample/HRV_Original.csv')\n",
    "#raw_label = pd.read_csv('./features_data_resample/HRV_Original_label.csv')\n",
    "\n",
    "# HRV+localPHI\n",
    "raw_df = pd.read_csv('./features_data_resample/HRV_all.csv')\n",
    "raw_label = pd.read_csv('./features_data_resample/HRV_all_label.csv')\n",
    "subject_id = pd.read_csv('./features_data_resample/subjectId.csv')\n",
    "X = raw_df\n",
    "y = raw_label\n",
    "print(y.shape,X.shape, subject_id.shape)"
   ]
  },
  {
   "cell_type": "code",
   "execution_count": 113,
   "metadata": {},
   "outputs": [],
   "source": [
    "import lightgbm as lgb\n",
    "from sklearn.metrics import accuracy_score\n",
    "import seaborn as sns\n",
    "import matplotlib.pyplot as plt\n"
   ]
  },
  {
   "cell_type": "code",
   "execution_count": 114,
   "metadata": {},
   "outputs": [],
   "source": [
    "import numpy as np\n",
    "def plot_confusion_matrix(actual_val, pred_val, title=None):\n",
    "    confusion_matrix = pd.crosstab(actual_val, pred_val,\n",
    "                                   rownames=['Actual'],\n",
    "                                   colnames=['Predicted'])\n",
    "    \n",
    "    plot = sns.heatmap(confusion_matrix, annot=True, fmt=',.0f')\n",
    "    \n",
    "    if title is None:\n",
    "        pass\n",
    "    else:\n",
    "        plot.set_title(title)\n",
    "        \n",
    "    plt.show()\n",
    "    return confusion_matrix\n",
    "\n",
    "def cal_confmatrix(n_range,y_true,y_pred):\n",
    "    cm  = np.zeros([n_range,n_range])\n",
    "    for i in range(1,n_range+1):\n",
    "        for j in range(1,n_range+1):\n",
    "            cm[i-1,j-1] += sum((y_true == i) & (y_pred == j))\n",
    "    return cm\n"
   ]
  },
  {
   "cell_type": "code",
   "execution_count": null,
   "metadata": {},
   "outputs": [],
   "source": [
    "param_grid = {\n",
    "    'num_leaves': [30, 40], \n",
    "    'feature_fraction': [0.2, 0.3],\n",
    "    'bagging_fraction': [0.6, 0.7],\n",
    "    'max_depth':[3, 5, 7],\n",
    "    'max_bin':[20],\n",
    "    'lambda_l1':[0.3, 0.6],\n",
    "    'lambda_l2':[0.08, 0.09],\n",
    "    'min_split_gain':[0.04, 0.05],\n",
    "    'min_child_weight':[7]\n",
    "}"
   ]
  },
  {
   "cell_type": "code",
   "execution_count": 115,
   "metadata": {},
   "outputs": [
    {
     "name": "stdout",
     "output_type": "stream",
     "text": [
      "Accuracy: 0.4319148936170213\n",
      "Accuracy: 0.2517321016166282\n",
      "Accuracy: 0.44692737430167595\n",
      "Accuracy: 0.533678756476684\n",
      "Accuracy: 0.6749311294765841\n",
      "Accuracy: 0.2693498452012384\n",
      "Accuracy: 0.5705882352941176\n",
      "Accuracy: 0.6370106761565836\n",
      "Accuracy: 0.5392561983471075\n",
      "Accuracy: 0.7\n",
      "Accuracy: 0.38478747203579416\n",
      "Accuracy: 0.45323741007194246\n",
      "Accuracy: 0.42016806722689076\n",
      "Accuracy: 0.5435684647302904\n",
      "Accuracy: 0.5029411764705882\n",
      "Accuracy: 0.5750528541226215\n",
      "Accuracy: 0.5827814569536424\n",
      "Accuracy: 0.5948905109489051\n",
      "Accuracy: 0.4927007299270073\n",
      "Accuracy: 0.5152542372881356\n",
      "Accuracy: 0.37280701754385964\n",
      "Accuracy: 0.45012787723785164\n",
      "Accuracy: 0.42297650130548303\n",
      "Accuracy: 0.4812286689419795\n",
      "Accuracy: 0.4552238805970149\n",
      "Accuracy: 0.4645390070921986\n",
      "Accuracy: 0.6027027027027027\n",
      "Accuracy: 0.47761194029850745\n",
      "Accuracy: 0.3563025210084034\n",
      "Accuracy: 0.5787037037037037\n"
     ]
    }
   ],
   "source": [
    "N = int(subject_id.max())\n",
    "CM = np.zeros([4,4])\n",
    "for i in range(1,N+1):\n",
    "    sub_id = (subject_id['1'] == i) # The ['1'] is to select first column so that the range will be a series not df\n",
    "    X_test = X[sub_id]\n",
    "    X_train = X[~sub_id]\n",
    "    y_test = y[sub_id].values.flatten() # The Model expect 1d array\n",
    "    y_train = y[~sub_id].values.flatten()\n",
    "    model = lgb.LGBMClassifier(is_unbalance=False)\n",
    "    model.fit(X_train,y_train)\n",
    "    pred=model.predict(X_test)\n",
    "    print(\"Accuracy:\", accuracy_score(y_test, pred))\n",
    "    CM += cal_confmatrix(4 ,y_test,pred)"
   ]
  },
  {
   "cell_type": "code",
   "execution_count": 116,
   "metadata": {},
   "outputs": [
    {
     "name": "stdout",
     "output_type": "stream",
     "text": [
      "Acc =  0.4874130079903772\n",
      "macroF1 =  0.4320035762021376\n"
     ]
    }
   ],
   "source": [
    "print('Acc = ', sum(np.diag(CM))/sum(sum(CM)))\n",
    "stat = np.zeros([3,4])\n",
    "for i in range(4):\n",
    "    stat[0,i] = CM[i,i]/sum(CM[:,i])\n",
    "    stat[1,i] = CM[i,i]/sum(CM[i,:])\n",
    "    stat[2,i] = 2*stat[0,i]*stat[1,i]/(stat[0,i]+stat[1,i])\n",
    "    \n",
    "macroF1 = sum(stat[2,:])/4\n",
    "print('macroF1 = ', macroF1)"
   ]
  },
  {
   "cell_type": "code",
   "execution_count": 117,
   "metadata": {},
   "outputs": [
    {
     "data": {
      "image/png": "[encoded data removed]",
      "text/plain": [
       "<Figure size 432x288 with 2 Axes>"
      ]
     },
     "metadata": {
      "needs_background": "light"
     },
     "output_type": "display_data"
    }
   ],
   "source": [
    "plot = sns.heatmap(CM, annot=True, fmt=',.0f')\n",
    "plt.xlabel('Predict')\n",
    "plt.ylabel('True')\n",
    "plt.title('Confusion Matrix')\n",
    "plt.show()"
   ]
  },
  {
   "cell_type": "code",
   "execution_count": 118,
   "metadata": {},
   "outputs": [
    {
     "data": {
      "text/plain": [
       "array([[0.46575342, 0.32163973, 0.38050828],\n",
       "       [0.58559847, 0.44638313, 0.50660066],\n",
       "       [0.47226624, 0.70494624, 0.56561125],\n",
       "       [0.41342756, 0.20634921, 0.27529412]])"
      ]
     },
     "execution_count": 118,
     "metadata": {},
     "output_type": "execute_result"
    }
   ],
   "source": [
    "np.transpose(stat)"
   ]
  },
  {
   "cell_type": "markdown",
   "metadata": {},
   "source": [
    "# Original Code"
   ]
  },
  {
   "cell_type": "code",
   "execution_count": 119,
   "metadata": {},
   "outputs": [],
   "source": [
    "# # Leave-one-out cross validation cutting\n",
    "# from sklearn.model_selection import train_test_split\n",
    "# X_train, X_test, y_train, y_test = train_test_split(X, y, test_size=0.3, random_state=42, stratify=y)\n",
    "# print('X_train:', X_train.shape)\n",
    "# print('X_test:', X_test.shape)"
   ]
  },
  {
   "cell_type": "code",
   "execution_count": 120,
   "metadata": {},
   "outputs": [],
   "source": [
    "# import lightgbm as lgb\n",
    "# model = lgb.LGBMClassifier(is_unbalance=True)\n",
    "# model.fit(X_train,y_train)"
   ]
  },
  {
   "cell_type": "code",
   "execution_count": 121,
   "metadata": {},
   "outputs": [],
   "source": [
    "# from sklearn.metrics import accuracy_score\n",
    "# pred=model.predict(X_test)\n",
    "# print(\"Accuracy:\", accuracy_score(y_test, pred))"
   ]
  },
  {
   "cell_type": "code",
   "execution_count": 122,
   "metadata": {},
   "outputs": [],
   "source": [
    "# import seaborn as sns\n",
    "# import matplotlib.pyplot as plt\n",
    "# def plot_confusion_matrix(actual_val, pred_val, title=None):\n",
    "    # confusion_matrix = pd.crosstab(actual_val, pred_val,\n",
    "                                   # rownames=['Actual'],\n",
    "                                   # colnames=['Predicted'])\n",
    "    \n",
    "    # plot = sns.heatmap(confusion_matrix, annot=True, fmt=',.0f')\n",
    "    \n",
    "    # if title is None:\n",
    "        # pass\n",
    "    # else:\n",
    "        # plot.set_title(title)\n",
    "        \n",
    "    # plt.show()\n",
    "    # return confusion_matrix"
   ]
  },
  {
   "cell_type": "code",
   "execution_count": 123,
   "metadata": {},
   "outputs": [],
   "source": [
    "# import numpy as np\n",
    "# q = np.array(y_test)\n",
    "# q = q.reshape((-1,))\n",
    "# print(q.shape)\n",
    "# print(pred.shape)"
   ]
  },
  {
   "cell_type": "code",
   "execution_count": 124,
   "metadata": {},
   "outputs": [],
   "source": [
    "# plot_confusion_matrix(q, pred)"
   ]
  }
 ],
 "metadata": {
  "kernelspec": {
   "display_name": "Python 3",
   "language": "python",
   "name": "python3"
  },
  "language_info": {
   "codemirror_mode": {
    "name": "ipython",
    "version": 3
   },
   "file_extension": ".py",
   "mimetype": "text/x-python",
   "name": "python",
   "nbconvert_exporter": "python",
   "pygments_lexer": "ipython3",
   "version": "3.7.6"
  },
  "vscode": {
   "interpreter": {
    "hash": "af8259ad5c1c9c7a69bd6ea085234cf8fd3a6a37a71ca551828b314c4d89b0ad"
   }
  }
 },
 "nbformat": 4,
 "nbformat_minor": 2
}
